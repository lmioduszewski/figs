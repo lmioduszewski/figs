{
 "cells": [
  {
   "cell_type": "code",
   "execution_count": 1,
   "id": "initial_id",
   "metadata": {
    "collapsed": true,
    "ExecuteTime": {
     "end_time": "2024-03-17T18:12:08.323381Z",
     "start_time": "2024-03-17T18:12:07.599200600Z"
    }
   },
   "outputs": [],
   "source": [
    "import bokeh as bk\n",
    "import bokeh.models as models\n",
    "import bokeh.plotting\n",
    "from bokeh.plotting import figure, show\n",
    "import pandas as pd\n",
    "import polars as pl"
   ]
  },
  {
   "cell_type": "code",
   "execution_count": 2,
   "outputs": [],
   "source": [
    "df = pd.DataFrame()\n",
    "df['x'] = [1,2,3,4,5]\n",
    "df['y'] = [5,4,3,2,1]"
   ],
   "metadata": {
    "collapsed": false,
    "ExecuteTime": {
     "end_time": "2024-03-17T18:12:10.178332700Z",
     "start_time": "2024-03-17T18:12:10.155590600Z"
    }
   },
   "id": "defe0353d140c6"
  },
  {
   "cell_type": "code",
   "execution_count": 3,
   "outputs": [],
   "source": [
    "source = models.sources.ColumnDataSource(df)"
   ],
   "metadata": {
    "collapsed": false,
    "ExecuteTime": {
     "end_time": "2024-03-17T18:12:10.784989800Z",
     "start_time": "2024-03-17T18:12:10.763068300Z"
    }
   },
   "id": "a9c0c3eaa584e4d6"
  },
  {
   "cell_type": "code",
   "execution_count": 4,
   "outputs": [
    {
     "data": {
      "text/plain": "GlyphRenderer(id='p1038', ...)",
      "text/html": "<div style=\"display: table;\"><div style=\"display: table-row;\"><div style=\"display: table-cell;\"><b title=\"bokeh.models.renderers.glyph_renderer.GlyphRenderer\">GlyphRenderer</b>(</div><div style=\"display: table-cell;\">id&nbsp;=&nbsp;'p1038', <span id=\"p1042\" style=\"cursor: pointer;\">&hellip;)</span></div></div><div class=\"p1041\" style=\"display: none;\"><div style=\"display: table-cell;\"></div><div style=\"display: table-cell;\">coordinates&nbsp;=&nbsp;None,</div></div><div class=\"p1041\" style=\"display: none;\"><div style=\"display: table-cell;\"></div><div style=\"display: table-cell;\">data_source&nbsp;=&nbsp;ColumnDataSource(id='p1001', ...),</div></div><div class=\"p1041\" style=\"display: none;\"><div style=\"display: table-cell;\"></div><div style=\"display: table-cell;\">glyph&nbsp;=&nbsp;Scatter(id='p1035', ...),</div></div><div class=\"p1041\" style=\"display: none;\"><div style=\"display: table-cell;\"></div><div style=\"display: table-cell;\">group&nbsp;=&nbsp;None,</div></div><div class=\"p1041\" style=\"display: none;\"><div style=\"display: table-cell;\"></div><div style=\"display: table-cell;\">hover_glyph&nbsp;=&nbsp;None,</div></div><div class=\"p1041\" style=\"display: none;\"><div style=\"display: table-cell;\"></div><div style=\"display: table-cell;\">js_event_callbacks&nbsp;=&nbsp;{},</div></div><div class=\"p1041\" style=\"display: none;\"><div style=\"display: table-cell;\"></div><div style=\"display: table-cell;\">js_property_callbacks&nbsp;=&nbsp;{},</div></div><div class=\"p1041\" style=\"display: none;\"><div style=\"display: table-cell;\"></div><div style=\"display: table-cell;\">level&nbsp;=&nbsp;'glyph',</div></div><div class=\"p1041\" style=\"display: none;\"><div style=\"display: table-cell;\"></div><div style=\"display: table-cell;\">muted&nbsp;=&nbsp;False,</div></div><div class=\"p1041\" style=\"display: none;\"><div style=\"display: table-cell;\"></div><div style=\"display: table-cell;\">muted_glyph&nbsp;=&nbsp;Scatter(id='p1037', ...),</div></div><div class=\"p1041\" style=\"display: none;\"><div style=\"display: table-cell;\"></div><div style=\"display: table-cell;\">name&nbsp;=&nbsp;None,</div></div><div class=\"p1041\" style=\"display: none;\"><div style=\"display: table-cell;\"></div><div style=\"display: table-cell;\">nonselection_glyph&nbsp;=&nbsp;Scatter(id='p1036', ...),</div></div><div class=\"p1041\" style=\"display: none;\"><div style=\"display: table-cell;\"></div><div style=\"display: table-cell;\">propagate_hover&nbsp;=&nbsp;False,</div></div><div class=\"p1041\" style=\"display: none;\"><div style=\"display: table-cell;\"></div><div style=\"display: table-cell;\">selection_glyph&nbsp;=&nbsp;'auto',</div></div><div class=\"p1041\" style=\"display: none;\"><div style=\"display: table-cell;\"></div><div style=\"display: table-cell;\">subscribed_events&nbsp;=&nbsp;PropertyValueSet(),</div></div><div class=\"p1041\" style=\"display: none;\"><div style=\"display: table-cell;\"></div><div style=\"display: table-cell;\">syncable&nbsp;=&nbsp;True,</div></div><div class=\"p1041\" style=\"display: none;\"><div style=\"display: table-cell;\"></div><div style=\"display: table-cell;\">tags&nbsp;=&nbsp;[],</div></div><div class=\"p1041\" style=\"display: none;\"><div style=\"display: table-cell;\"></div><div style=\"display: table-cell;\">view&nbsp;=&nbsp;CDSView(id='p1039', ...),</div></div><div class=\"p1041\" style=\"display: none;\"><div style=\"display: table-cell;\"></div><div style=\"display: table-cell;\">visible&nbsp;=&nbsp;True,</div></div><div class=\"p1041\" style=\"display: none;\"><div style=\"display: table-cell;\"></div><div style=\"display: table-cell;\">x_range_name&nbsp;=&nbsp;'default',</div></div><div class=\"p1041\" style=\"display: none;\"><div style=\"display: table-cell;\"></div><div style=\"display: table-cell;\">y_range_name&nbsp;=&nbsp;'default')</div></div></div>\n<script>\n(function() {\n  let expanded = false;\n  const ellipsis = document.getElementById(\"p1042\");\n  ellipsis.addEventListener(\"click\", function() {\n    const rows = document.getElementsByClassName(\"p1041\");\n    for (let i = 0; i < rows.length; i++) {\n      const el = rows[i];\n      el.style.display = expanded ? \"none\" : \"table-row\";\n    }\n    ellipsis.innerHTML = expanded ? \"&hellip;)\" : \"&lsaquo;&lsaquo;&lsaquo;\";\n    expanded = !expanded;\n  });\n})();\n</script>\n"
     },
     "execution_count": 4,
     "metadata": {},
     "output_type": "execute_result"
    }
   ],
   "source": [
    "fig = figure()\n",
    "fig.scatter(source=source)"
   ],
   "metadata": {
    "collapsed": false,
    "ExecuteTime": {
     "end_time": "2024-03-17T18:12:11.123777300Z",
     "start_time": "2024-03-17T18:12:11.090709700Z"
    }
   },
   "id": "45f580befbd27c01"
  },
  {
   "cell_type": "code",
   "execution_count": 29,
   "outputs": [],
   "source": [
    "show(fig)"
   ],
   "metadata": {
    "collapsed": false,
    "ExecuteTime": {
     "end_time": "2024-03-17T18:11:34.320226100Z",
     "start_time": "2024-03-17T18:11:34.159021800Z"
    }
   },
   "id": "cb2e312ab5f89b6e"
  },
  {
   "cell_type": "code",
   "execution_count": 7,
   "outputs": [
    {
     "data": {
      "text/plain": "shape: (5, 2)\n┌─────┬─────┐\n│ x   ┆ y   │\n│ --- ┆ --- │\n│ i64 ┆ i64 │\n╞═════╪═════╡\n│ 1   ┆ 5   │\n│ 2   ┆ 4   │\n│ 3   ┆ 3   │\n│ 4   ┆ 2   │\n│ 5   ┆ 1   │\n└─────┴─────┘",
      "text/html": "<div><style>\n.dataframe > thead > tr,\n.dataframe > tbody > tr {\n  text-align: right;\n  white-space: pre-wrap;\n}\n</style>\n<small>shape: (5, 2)</small><table border=\"1\" class=\"dataframe\"><thead><tr><th>x</th><th>y</th></tr><tr><td>i64</td><td>i64</td></tr></thead><tbody><tr><td>1</td><td>5</td></tr><tr><td>2</td><td>4</td></tr><tr><td>3</td><td>3</td></tr><tr><td>4</td><td>2</td></tr><tr><td>5</td><td>1</td></tr></tbody></table></div>"
     },
     "execution_count": 7,
     "metadata": {},
     "output_type": "execute_result"
    }
   ],
   "source": [
    "pl.DataFrame(df)"
   ],
   "metadata": {
    "collapsed": false,
    "ExecuteTime": {
     "end_time": "2024-03-17T18:13:26.241817400Z",
     "start_time": "2024-03-17T18:13:26.204244900Z"
    }
   },
   "id": "20608f14665f0bb7"
  },
  {
   "cell_type": "code",
   "execution_count": 44,
   "outputs": [
    {
     "name": "stderr",
     "output_type": "stream",
     "text": [
      "BokehDeprecationWarning: 'circle() method with size value' was deprecated in Bokeh 3.4.0 and will be removed, use 'scatter(size=...) instead' instead.\n"
     ]
    }
   ],
   "source": [
    "from bokeh.plotting import figure, show\n",
    "from bokeh.models import ColumnDataSource, Legend\n",
    "\n",
    "# Sample data\n",
    "source = ColumnDataSource(data=dict(\n",
    "    x=[1, 2, 3, 4, 5],\n",
    "    y=[6, 7, 2, 4, 5],\n",
    "    x2=[1, 2, 3, 4, 5],\n",
    "    y2=[5, 6, 3, 2, 4]\n",
    "))\n",
    "\n",
    "# Create a new plot\n",
    "p = figure()\n",
    "\n",
    "# Add glyphs with a legend label\n",
    "line = p.line('x', 'y', source=source, legend_label=\"Line\", line_width=2)\n",
    "circle = p.circle('x2', 'y2', source=source, size=20, color=\"navy\", legend_label=\"Circle\")\n",
    "\n",
    "# Manually create a legend (optional, if more control is needed)\n",
    "legend = Legend(items=[\n",
    "    (\"Line\", [line]),\n",
    "    (\"Circle\", [circle])\n",
    "], location=\"center\")\n",
    "\n",
    "# Clicking the legend's items will hide/mute the glyph\n",
    "p.legend.click_policy = \"hide\"  # Can also be \"mute\"\n",
    "\n",
    "# Add the legend manually if created (optional)\n",
    "# p.add_layout(legend)\n",
    "\n",
    "# Show the result\n",
    "show(p)\n"
   ],
   "metadata": {
    "collapsed": false,
    "ExecuteTime": {
     "end_time": "2024-03-25T06:32:46.020842Z",
     "start_time": "2024-03-25T06:32:45.820565300Z"
    }
   },
   "id": "59dc7a053527eb69"
  },
  {
   "cell_type": "code",
   "execution_count": null,
   "outputs": [],
   "source": [
    "import os\n",
    "from bokeh.plotting import figure, show\n",
    "from bokeh.models import Range1d\n",
    "from bokeh.io.export import get_svg, export_svg\n",
    "from svglib.svglib import svg2rlg\n",
    "from reportlab.graphics import renderPDF\n",
    "from reportlab.graphics.shapes import Drawing\n",
    "from figs._fig import Fig\n",
    "import plotly.io as pio\n",
    "import xml.etree.ElementTree as ETree\n",
    "import svgpathtools as svgtools\n",
    "\n",
    "class BokehScalableFigure:\n",
    "    def __init__(\n",
    "            self,\n",
    "            bokeh_figure: figure=None,\n",
    "            plot_width=17, \n",
    "            plot_height=11, \n",
    "            x_scale=0.25, \n",
    "            y_scale=0.25, \n",
    "            x_start=None,\n",
    "            y_start=None\n",
    "    ):\n",
    "        # Basic plot setup\n",
    "        self.dot_per_inch = 72 #  used to convert plot dimensions to inches, 72 is the standard default\n",
    "        self.plot_width = plot_width * self.dot_per_inch\n",
    "        self.plot_height = plot_height * self.dot_per_inch\n",
    "        self.x_scale = x_scale  # real-world units per inch\n",
    "        self.y_scale = y_scale  # real-world units per inch\n",
    "        self.x_start = x_start  # minimum x value in real-world units\n",
    "        self.y_start = y_start  # minimum y value in real-world units\n",
    "        if bokeh_figure is None:\n",
    "            self.figure = figure(\n",
    "                width=self.plot_width, height=self.plot_height,\n",
    "                output_backend=\"svg\")\n",
    "        else:\n",
    "            self.figure = bokeh_figure\n",
    "            self.figure.width = self.plot_width\n",
    "            self.figure.height = self.plot_height\n",
    "            self.figure.output_backend='svg'\n",
    "\n",
    "        # Default file paths\n",
    "        self.svg_path = 'temp_plot.svg'\n",
    "        self.pdf_path = 'temp_plot.pdf'\n",
    "\n",
    "    def add_line(self, x, y, **kwargs):\n",
    "        self.figure.line(x, y, **kwargs)\n",
    "\n",
    "    def write_svg(self):\n",
    "        # Save the current figure as svg\n",
    "        export_svg(self.figure, filename=self.svg_path)\n",
    "    \n",
    "    @property\n",
    "    def x_scale(self):\n",
    "        if self.x_scale is None:\n",
    "            self.x_scale = 1\n",
    "        return self.x_scale\n",
    "    \n",
    "    @x_scale.setter\n",
    "    def x_scale(self, val):\n",
    "        self.x_scale = val\n",
    "        \n",
    "    @property\n",
    "    def x_start(self):\n",
    "        if self.x_start is None:\n",
    "            self.x_start = 0\n",
    "        return self.x_start\n",
    "    \n",
    "    @x_start.setter\n",
    "    def x_start(self, val):\n",
    "        self.x_start = val\n",
    "        \n",
    "    @property\n",
    "    def y_scale(self):\n",
    "        if self.y_scale is None:\n",
    "            self.y_scale = 1 \n",
    "        return self.y_scale\n",
    "    \n",
    "    @y_scale.setter\n",
    "    def y_scale(self, val):\n",
    "        self.y_scale = val\n",
    "        \n",
    "    @property\n",
    "    def y_start(self):\n",
    "        if self.y_start is None:\n",
    "            self.y_start = 0 \n",
    "        return self.y_start\n",
    "    \n",
    "    @y_start.setter\n",
    "    def y_start(self, val):\n",
    "        self.y_start = val\n",
    "    \n",
    "    @property   \n",
    "    def root(self):\n",
    "        root = ETree.parse(self.svg_path).getroot()\n",
    "        self.root = root\n",
    "        return self.root\n",
    "        \n",
    "    def get_scaled_grid_dimensions(self):\n",
    "        \"\"\"Parses the figure SVG to get the scaled x and y ranges based on the starting.\n",
    "        Determines the actual axes spans in inches and scales the ranges so that the\n",
    "        specified x_scale and y_scale are true.\"\"\"\n",
    "        root = self.root\n",
    "        elements = [element for element in root.iter()]\n",
    "        #  get the bounding box of the grid of the svg plot exported from Bokeh. the element with the\n",
    "        #  index of 5 encompases the grid area of the plot, so we get the bbox from this element\n",
    "        bbox = svgtools.parse_path(elements[5].attrib['d']).bbox()\n",
    "        x_dot_min, y_dot_min = bbox[0], bbox[2]\n",
    "        x_dot_span, y_dot_span = bbox[1] - bbox[0], bbox[3] - bbox[2]\n",
    "        x_length_grid_in_inches = x_dot_span / self.dot_per_inch\n",
    "        y_height_grid_in_inches = y_dot_span / self.dot_per_inch\n",
    "        \n",
    "        x_unit_span = x_length_grid_in_inches * self.x_scale\n",
    "        y_unit_span = y_height_grid_in_inches * self.y_scale\n",
    "        x_unit_min, y_unit_min = self.x_start, self.y_start\n",
    "        \n",
    "        x_unit_max = x_unit_min + x_unit_span\n",
    "        y_unit_max = y_unit_min + y_unit_span\n",
    "        x_range, y_range = (x_unit_min, x_unit_max), (y_unit_min, y_unit_max)\n",
    "        \n",
    "        return x_range, y_range\n",
    "        \n",
    "\n",
    "    def write_scaled_pdf(self):\n",
    "        svg_path = self.svg_path\n",
    "        pdf_path = self.pdf_path\n",
    "        \n",
    "        #  write and parse inital svg, adust the figure ranges, and then write the scaled svg\n",
    "        self.write_svg()\n",
    "        print('wrote 1st svg')\n",
    "        x_range, y_range = self.get_scaled_grid_dimensions()\n",
    "        self.figure.x_range = Range1d(x_range)\n",
    "        self.figure.y_range = Range1d(y_range)\n",
    "        self.write_svg()\n",
    "        print('wrote scaled svg')\n",
    "                \n",
    "        # Convert SVG to PDF while maintaining scale\n",
    "        drawing = svg2rlg(svg_path)\n",
    "\n",
    "        # Create a ReportLab drawing and render the SVG drawing into it\n",
    "        rendered_drawing = Drawing(drawing.width, drawing.height)\n",
    "        rendered_drawing.add(drawing)\n",
    "\n",
    "        # Write to a PDF\n",
    "        renderPDF.drawToFile(rendered_drawing, pdf_path)\n",
    "        print(f'PDF exported to {pdf_path}')\n",
    "    \n",
    "\n",
    "# Usage\n",
    "if __name__ == \"__main__\":\n",
    "    bokeh_fig = BokehScalableFigure()\n",
    "    bokeh_fig.add_line(x=[1, 2, 3, 4], y=[4, 3, 5, 2], line_width=2, color=\"blue\", legend_label='ground line')\n",
    "    bokeh_fig.write_scaled_pdf()  # Convert and scale to PDF"
   ],
   "metadata": {
    "collapsed": false,
    "is_executing": true,
    "ExecuteTime": {
     "start_time": "2024-03-27T06:38:57.264756300Z"
    }
   },
   "id": "2c0addd801c26d1e"
  },
  {
   "cell_type": "code",
   "execution_count": 3,
   "outputs": [],
   "source": [
    "root = ETree.parse('temp_plot.svg').getroot()\n",
    "elements = [element for element in root.iter()]\n",
    "#  get the bounding box of the grid of the svg plot exported from Bokeh\n",
    "bbox = svgtools.parse_path(elements[5].attrib['d']).bbox()\n",
    "x_min, y_min = bbox[0], bbox[2]\n",
    "x_length_grid_in_inches = (bbox[1] - bbox[0]) / 72\n",
    "y_height_grid_in_inches = (bbox[3] - bbox[2]) / 72"
   ],
   "metadata": {
    "collapsed": false,
    "ExecuteTime": {
     "end_time": "2024-03-26T17:04:05.852931Z",
     "start_time": "2024-03-26T17:04:05.835392100Z"
    }
   },
   "id": "b0603cc4a5f6d365"
  },
  {
   "cell_type": "code",
   "execution_count": 4,
   "outputs": [
    {
     "data": {
      "text/plain": "16.125"
     },
     "execution_count": 4,
     "metadata": {},
     "output_type": "execute_result"
    }
   ],
   "source": [
    "x_length_grid_in_inches"
   ],
   "metadata": {
    "collapsed": false,
    "ExecuteTime": {
     "end_time": "2024-03-26T17:29:52.994339100Z",
     "start_time": "2024-03-26T17:29:52.966517Z"
    }
   },
   "id": "9bbd252f5cca06b3"
  },
  {
   "cell_type": "code",
   "execution_count": null,
   "outputs": [],
   "source": [],
   "metadata": {
    "collapsed": false
   },
   "id": "7870c98c0cc41cf2"
  }
 ],
 "metadata": {
  "kernelspec": {
   "display_name": "Python 3",
   "language": "python",
   "name": "python3"
  },
  "language_info": {
   "codemirror_mode": {
    "name": "ipython",
    "version": 2
   },
   "file_extension": ".py",
   "mimetype": "text/x-python",
   "name": "python",
   "nbconvert_exporter": "python",
   "pygments_lexer": "ipython2",
   "version": "2.7.6"
  }
 },
 "nbformat": 4,
 "nbformat_minor": 5
}
