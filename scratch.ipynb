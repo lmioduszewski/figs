{
 "cells": [
  {
   "cell_type": "code",
   "execution_count": 1,
   "id": "initial_id",
   "metadata": {
    "collapsed": true,
    "ExecuteTime": {
     "end_time": "2024-03-17T18:12:08.323381Z",
     "start_time": "2024-03-17T18:12:07.599200600Z"
    }
   },
   "outputs": [],
   "source": [
    "import bokeh as bk\n",
    "import bokeh.models as models\n",
    "import bokeh.plotting\n",
    "from bokeh.plotting import figure, show\n",
    "import pandas as pd\n",
    "import polars as pl"
   ]
  },
  {
   "cell_type": "code",
   "execution_count": 2,
   "outputs": [],
   "source": [
    "df = pd.DataFrame()\n",
    "df['x'] = [1,2,3,4,5]\n",
    "df['y'] = [5,4,3,2,1]"
   ],
   "metadata": {
    "collapsed": false,
    "ExecuteTime": {
     "end_time": "2024-03-17T18:12:10.178332700Z",
     "start_time": "2024-03-17T18:12:10.155590600Z"
    }
   },
   "id": "defe0353d140c6"
  },
  {
   "cell_type": "code",
   "execution_count": 3,
   "outputs": [],
   "source": [
    "source = models.sources.ColumnDataSource(df)"
   ],
   "metadata": {
    "collapsed": false,
    "ExecuteTime": {
     "end_time": "2024-03-17T18:12:10.784989800Z",
     "start_time": "2024-03-17T18:12:10.763068300Z"
    }
   },
   "id": "a9c0c3eaa584e4d6"
  },
  {
   "cell_type": "code",
   "execution_count": 4,
   "outputs": [
    {
     "data": {
      "text/plain": "GlyphRenderer(id='p1038', ...)",
      "text/html": "<div style=\"display: table;\"><div style=\"display: table-row;\"><div style=\"display: table-cell;\"><b title=\"bokeh.models.renderers.glyph_renderer.GlyphRenderer\">GlyphRenderer</b>(</div><div style=\"display: table-cell;\">id&nbsp;=&nbsp;'p1038', <span id=\"p1042\" style=\"cursor: pointer;\">&hellip;)</span></div></div><div class=\"p1041\" style=\"display: none;\"><div style=\"display: table-cell;\"></div><div style=\"display: table-cell;\">coordinates&nbsp;=&nbsp;None,</div></div><div class=\"p1041\" style=\"display: none;\"><div style=\"display: table-cell;\"></div><div style=\"display: table-cell;\">data_source&nbsp;=&nbsp;ColumnDataSource(id='p1001', ...),</div></div><div class=\"p1041\" style=\"display: none;\"><div style=\"display: table-cell;\"></div><div style=\"display: table-cell;\">glyph&nbsp;=&nbsp;Scatter(id='p1035', ...),</div></div><div class=\"p1041\" style=\"display: none;\"><div style=\"display: table-cell;\"></div><div style=\"display: table-cell;\">group&nbsp;=&nbsp;None,</div></div><div class=\"p1041\" style=\"display: none;\"><div style=\"display: table-cell;\"></div><div style=\"display: table-cell;\">hover_glyph&nbsp;=&nbsp;None,</div></div><div class=\"p1041\" style=\"display: none;\"><div style=\"display: table-cell;\"></div><div style=\"display: table-cell;\">js_event_callbacks&nbsp;=&nbsp;{},</div></div><div class=\"p1041\" style=\"display: none;\"><div style=\"display: table-cell;\"></div><div style=\"display: table-cell;\">js_property_callbacks&nbsp;=&nbsp;{},</div></div><div class=\"p1041\" style=\"display: none;\"><div style=\"display: table-cell;\"></div><div style=\"display: table-cell;\">level&nbsp;=&nbsp;'glyph',</div></div><div class=\"p1041\" style=\"display: none;\"><div style=\"display: table-cell;\"></div><div style=\"display: table-cell;\">muted&nbsp;=&nbsp;False,</div></div><div class=\"p1041\" style=\"display: none;\"><div style=\"display: table-cell;\"></div><div style=\"display: table-cell;\">muted_glyph&nbsp;=&nbsp;Scatter(id='p1037', ...),</div></div><div class=\"p1041\" style=\"display: none;\"><div style=\"display: table-cell;\"></div><div style=\"display: table-cell;\">name&nbsp;=&nbsp;None,</div></div><div class=\"p1041\" style=\"display: none;\"><div style=\"display: table-cell;\"></div><div style=\"display: table-cell;\">nonselection_glyph&nbsp;=&nbsp;Scatter(id='p1036', ...),</div></div><div class=\"p1041\" style=\"display: none;\"><div style=\"display: table-cell;\"></div><div style=\"display: table-cell;\">propagate_hover&nbsp;=&nbsp;False,</div></div><div class=\"p1041\" style=\"display: none;\"><div style=\"display: table-cell;\"></div><div style=\"display: table-cell;\">selection_glyph&nbsp;=&nbsp;'auto',</div></div><div class=\"p1041\" style=\"display: none;\"><div style=\"display: table-cell;\"></div><div style=\"display: table-cell;\">subscribed_events&nbsp;=&nbsp;PropertyValueSet(),</div></div><div class=\"p1041\" style=\"display: none;\"><div style=\"display: table-cell;\"></div><div style=\"display: table-cell;\">syncable&nbsp;=&nbsp;True,</div></div><div class=\"p1041\" style=\"display: none;\"><div style=\"display: table-cell;\"></div><div style=\"display: table-cell;\">tags&nbsp;=&nbsp;[],</div></div><div class=\"p1041\" style=\"display: none;\"><div style=\"display: table-cell;\"></div><div style=\"display: table-cell;\">view&nbsp;=&nbsp;CDSView(id='p1039', ...),</div></div><div class=\"p1041\" style=\"display: none;\"><div style=\"display: table-cell;\"></div><div style=\"display: table-cell;\">visible&nbsp;=&nbsp;True,</div></div><div class=\"p1041\" style=\"display: none;\"><div style=\"display: table-cell;\"></div><div style=\"display: table-cell;\">x_range_name&nbsp;=&nbsp;'default',</div></div><div class=\"p1041\" style=\"display: none;\"><div style=\"display: table-cell;\"></div><div style=\"display: table-cell;\">y_range_name&nbsp;=&nbsp;'default')</div></div></div>\n<script>\n(function() {\n  let expanded = false;\n  const ellipsis = document.getElementById(\"p1042\");\n  ellipsis.addEventListener(\"click\", function() {\n    const rows = document.getElementsByClassName(\"p1041\");\n    for (let i = 0; i < rows.length; i++) {\n      const el = rows[i];\n      el.style.display = expanded ? \"none\" : \"table-row\";\n    }\n    ellipsis.innerHTML = expanded ? \"&hellip;)\" : \"&lsaquo;&lsaquo;&lsaquo;\";\n    expanded = !expanded;\n  });\n})();\n</script>\n"
     },
     "execution_count": 4,
     "metadata": {},
     "output_type": "execute_result"
    }
   ],
   "source": [
    "fig = figure()\n",
    "fig.scatter(source=source)"
   ],
   "metadata": {
    "collapsed": false,
    "ExecuteTime": {
     "end_time": "2024-03-17T18:12:11.123777300Z",
     "start_time": "2024-03-17T18:12:11.090709700Z"
    }
   },
   "id": "45f580befbd27c01"
  },
  {
   "cell_type": "code",
   "execution_count": 29,
   "outputs": [],
   "source": [
    "show(fig)"
   ],
   "metadata": {
    "collapsed": false,
    "ExecuteTime": {
     "end_time": "2024-03-17T18:11:34.320226100Z",
     "start_time": "2024-03-17T18:11:34.159021800Z"
    }
   },
   "id": "cb2e312ab5f89b6e"
  },
  {
   "cell_type": "code",
   "execution_count": 7,
   "outputs": [
    {
     "data": {
      "text/plain": "shape: (5, 2)\n┌─────┬─────┐\n│ x   ┆ y   │\n│ --- ┆ --- │\n│ i64 ┆ i64 │\n╞═════╪═════╡\n│ 1   ┆ 5   │\n│ 2   ┆ 4   │\n│ 3   ┆ 3   │\n│ 4   ┆ 2   │\n│ 5   ┆ 1   │\n└─────┴─────┘",
      "text/html": "<div><style>\n.dataframe > thead > tr,\n.dataframe > tbody > tr {\n  text-align: right;\n  white-space: pre-wrap;\n}\n</style>\n<small>shape: (5, 2)</small><table border=\"1\" class=\"dataframe\"><thead><tr><th>x</th><th>y</th></tr><tr><td>i64</td><td>i64</td></tr></thead><tbody><tr><td>1</td><td>5</td></tr><tr><td>2</td><td>4</td></tr><tr><td>3</td><td>3</td></tr><tr><td>4</td><td>2</td></tr><tr><td>5</td><td>1</td></tr></tbody></table></div>"
     },
     "execution_count": 7,
     "metadata": {},
     "output_type": "execute_result"
    }
   ],
   "source": [
    "pl.DataFrame(df)"
   ],
   "metadata": {
    "collapsed": false,
    "ExecuteTime": {
     "end_time": "2024-03-17T18:13:26.241817400Z",
     "start_time": "2024-03-17T18:13:26.204244900Z"
    }
   },
   "id": "20608f14665f0bb7"
  },
  {
   "cell_type": "code",
   "execution_count": 4,
   "outputs": [
    {
     "data": {
      "text/plain": "16.125"
     },
     "execution_count": 4,
     "metadata": {},
     "output_type": "execute_result"
    }
   ],
   "source": [
    "x_length_grid_in_inches"
   ],
   "metadata": {
    "collapsed": false,
    "ExecuteTime": {
     "end_time": "2024-03-26T17:29:52.994339100Z",
     "start_time": "2024-03-26T17:29:52.966517Z"
    }
   },
   "id": "9bbd252f5cca06b3"
  },
  {
   "cell_type": "code",
   "execution_count": 18,
   "outputs": [
    {
     "name": "stdout",
     "output_type": "stream",
     "text": [
      "WellHD\n"
     ]
    },
    {
     "data": {
      "text/plain": "[Timestamp('1996-01-01 12:00:00'),\n Timestamp('1996-01-02 12:00:00'),\n Timestamp('1996-01-03 12:00:00'),\n Timestamp('1996-01-04 12:00:00'),\n Timestamp('1996-01-05 12:00:00'),\n Timestamp('1996-01-06 12:00:00'),\n Timestamp('1996-01-07 12:00:00'),\n Timestamp('1996-01-08 12:00:00'),\n Timestamp('1996-01-09 12:00:00'),\n Timestamp('1996-01-10 12:00:00'),\n Timestamp('1996-01-11 12:00:00'),\n Timestamp('1996-01-12 12:00:00'),\n Timestamp('1996-01-13 12:00:00'),\n Timestamp('1996-01-14 12:00:00'),\n Timestamp('1996-01-15 12:00:00'),\n Timestamp('1996-01-16 12:00:00'),\n Timestamp('1996-01-17 12:00:00'),\n Timestamp('1996-01-18 12:00:00'),\n Timestamp('1996-01-19 12:00:00'),\n Timestamp('1996-01-20 12:00:00'),\n Timestamp('1996-01-21 12:00:00'),\n Timestamp('1996-01-22 12:00:00'),\n Timestamp('1996-01-23 12:00:00'),\n Timestamp('1996-01-24 12:00:00'),\n Timestamp('1996-01-25 12:00:00'),\n Timestamp('1996-01-26 12:00:00'),\n Timestamp('1996-01-27 12:00:00'),\n Timestamp('1996-01-28 12:00:00'),\n Timestamp('1996-01-29 12:00:00'),\n Timestamp('1996-01-30 12:00:00'),\n Timestamp('1996-01-31 12:00:00'),\n Timestamp('1996-02-01 12:00:00'),\n Timestamp('1996-02-02 12:00:00'),\n Timestamp('1996-02-03 12:00:00'),\n Timestamp('1996-02-04 12:00:00'),\n Timestamp('1996-02-05 12:00:00'),\n Timestamp('1996-02-06 12:00:00'),\n Timestamp('1996-02-07 12:00:00'),\n Timestamp('1996-02-08 12:00:00'),\n Timestamp('1996-02-09 12:00:00'),\n Timestamp('1996-02-10 12:00:00'),\n Timestamp('1996-02-11 12:00:00'),\n Timestamp('1996-02-12 12:00:00'),\n Timestamp('1996-02-13 12:00:00'),\n Timestamp('1996-02-14 12:00:00'),\n Timestamp('1996-02-15 12:00:00'),\n Timestamp('1996-02-16 12:00:00'),\n Timestamp('1996-02-17 12:00:00'),\n Timestamp('1996-02-18 12:00:00'),\n Timestamp('1996-02-19 12:00:00'),\n Timestamp('1996-02-20 12:00:00'),\n Timestamp('1996-02-21 12:00:00'),\n Timestamp('1996-02-22 12:00:00'),\n Timestamp('1996-02-23 12:00:00'),\n Timestamp('1996-02-24 12:00:00'),\n Timestamp('1996-02-25 12:00:00'),\n Timestamp('1996-02-26 12:00:00'),\n Timestamp('1996-02-27 12:00:00'),\n Timestamp('1996-02-28 12:00:00'),\n Timestamp('1996-02-29 12:00:00'),\n Timestamp('1996-03-01 12:00:00'),\n Timestamp('1996-03-02 12:00:00'),\n Timestamp('1996-03-03 12:00:00'),\n Timestamp('1996-03-04 12:00:00'),\n Timestamp('1996-03-05 12:00:00'),\n Timestamp('1996-03-06 12:00:00'),\n Timestamp('1996-03-07 12:00:00'),\n Timestamp('1996-03-08 12:00:00'),\n Timestamp('1996-03-09 12:00:00'),\n Timestamp('1996-03-10 12:00:00'),\n Timestamp('1996-03-11 12:00:00'),\n Timestamp('1996-03-12 12:00:00'),\n Timestamp('1996-03-13 12:00:00'),\n Timestamp('1996-03-14 12:00:00'),\n Timestamp('1996-03-15 12:00:00'),\n Timestamp('1996-03-16 12:00:00'),\n Timestamp('1996-03-17 12:00:00'),\n Timestamp('1996-03-18 12:00:00'),\n Timestamp('1996-03-19 12:00:00'),\n Timestamp('1996-03-20 12:00:00'),\n Timestamp('1996-03-21 12:00:00'),\n Timestamp('1996-03-22 12:00:00'),\n Timestamp('1996-03-23 12:00:00'),\n Timestamp('1996-03-24 12:00:00'),\n Timestamp('1996-03-25 12:00:00'),\n Timestamp('1996-03-26 12:00:00'),\n Timestamp('1996-03-27 12:00:00'),\n Timestamp('1996-03-28 12:00:00'),\n Timestamp('1996-03-29 12:00:00'),\n Timestamp('1996-03-30 12:00:00'),\n Timestamp('1996-03-31 12:00:00'),\n Timestamp('1996-04-01 12:00:00'),\n Timestamp('1996-04-02 12:00:00'),\n Timestamp('1996-04-03 12:00:00'),\n Timestamp('1996-04-04 12:00:00'),\n Timestamp('1996-04-05 12:00:00'),\n Timestamp('1996-04-06 12:00:00'),\n Timestamp('1996-04-07 12:00:00'),\n Timestamp('1996-04-08 12:00:00'),\n Timestamp('1996-04-09 12:00:00'),\n Timestamp('1996-04-10 12:00:00'),\n Timestamp('1996-04-11 12:00:00'),\n Timestamp('1996-04-12 12:00:00'),\n Timestamp('1996-04-13 12:00:00'),\n Timestamp('1996-04-14 12:00:00'),\n Timestamp('1996-04-15 12:00:00'),\n Timestamp('1996-04-16 12:00:00'),\n Timestamp('1996-04-17 12:00:00'),\n Timestamp('1996-04-18 12:00:00'),\n Timestamp('1996-04-19 12:00:00'),\n Timestamp('1996-04-20 12:00:00'),\n Timestamp('1996-04-21 12:00:00'),\n Timestamp('1996-04-22 12:00:00'),\n Timestamp('1996-04-23 12:00:00'),\n Timestamp('1996-04-24 12:00:00'),\n Timestamp('1996-04-25 12:00:00'),\n Timestamp('1996-04-26 12:00:00'),\n Timestamp('1996-04-27 12:00:00'),\n Timestamp('1996-04-28 12:00:00'),\n Timestamp('1996-04-29 12:00:00'),\n Timestamp('1996-04-30 12:00:00'),\n Timestamp('1996-05-01 12:00:00'),\n Timestamp('1996-05-02 12:00:00'),\n Timestamp('1996-05-03 12:00:00'),\n Timestamp('1996-05-04 12:00:00'),\n Timestamp('1996-05-05 12:00:00'),\n Timestamp('1996-05-06 12:00:00'),\n Timestamp('1996-05-07 12:00:00'),\n Timestamp('1996-05-08 12:00:00'),\n Timestamp('1996-05-09 12:00:00'),\n Timestamp('1996-05-10 12:00:00'),\n Timestamp('1996-05-11 12:00:00'),\n Timestamp('1996-05-12 12:00:00'),\n Timestamp('1996-05-13 12:00:00'),\n Timestamp('1996-05-14 12:00:00'),\n Timestamp('1996-05-15 12:00:00'),\n Timestamp('1996-05-16 12:00:00'),\n Timestamp('1996-05-17 12:00:00'),\n Timestamp('1996-05-18 12:00:00'),\n Timestamp('1996-05-19 12:00:00'),\n Timestamp('1996-05-20 12:00:00'),\n Timestamp('1996-05-21 12:00:00'),\n Timestamp('1996-05-22 12:00:00'),\n Timestamp('1996-05-23 12:00:00'),\n Timestamp('1996-05-24 12:00:00'),\n Timestamp('1996-05-25 12:00:00'),\n Timestamp('1996-05-26 12:00:00'),\n Timestamp('1996-05-27 12:00:00'),\n Timestamp('1996-05-28 12:00:00'),\n Timestamp('1996-05-29 12:00:00'),\n Timestamp('1996-05-30 12:00:00'),\n Timestamp('1996-05-31 12:00:00'),\n Timestamp('1996-06-01 12:00:00'),\n Timestamp('1996-06-02 12:00:00'),\n Timestamp('1996-06-03 12:00:00'),\n Timestamp('1996-06-04 12:00:00'),\n Timestamp('1996-06-05 12:00:00'),\n Timestamp('1996-06-06 12:00:00'),\n Timestamp('1996-06-07 12:00:00'),\n Timestamp('1996-06-08 12:00:00'),\n Timestamp('1996-06-09 12:00:00'),\n Timestamp('1996-06-10 12:00:00'),\n Timestamp('1996-06-11 12:00:00'),\n Timestamp('1996-06-12 12:00:00'),\n Timestamp('1996-06-13 12:00:00'),\n Timestamp('1996-06-14 12:00:00'),\n Timestamp('1996-06-15 12:00:00'),\n Timestamp('1996-06-16 12:00:00'),\n Timestamp('1996-06-17 12:00:00'),\n Timestamp('1996-06-18 12:00:00'),\n Timestamp('1996-06-19 12:00:00'),\n Timestamp('1996-06-20 12:00:00'),\n Timestamp('1996-06-21 12:00:00'),\n Timestamp('1996-06-22 12:00:00'),\n Timestamp('1996-06-23 12:00:00'),\n Timestamp('1996-06-24 12:00:00'),\n Timestamp('1996-06-25 12:00:00'),\n Timestamp('1996-06-26 12:00:00'),\n Timestamp('1996-06-27 12:00:00'),\n Timestamp('1996-06-28 12:00:00'),\n Timestamp('1996-06-29 12:00:00'),\n Timestamp('1996-06-30 12:00:00'),\n Timestamp('1996-07-01 12:00:00'),\n Timestamp('1996-07-02 12:00:00'),\n Timestamp('1996-07-03 12:00:00'),\n Timestamp('1996-07-04 12:00:00'),\n Timestamp('1996-07-05 12:00:00'),\n Timestamp('1996-07-06 12:00:00'),\n Timestamp('1996-07-07 12:00:00'),\n Timestamp('1996-07-08 12:00:00'),\n Timestamp('1996-07-09 12:00:00'),\n Timestamp('1996-07-10 12:00:00'),\n Timestamp('1996-07-11 12:00:00'),\n Timestamp('1996-07-12 12:00:00'),\n Timestamp('1996-07-13 12:00:00'),\n Timestamp('1996-07-14 12:00:00'),\n Timestamp('1996-07-15 12:00:00'),\n Timestamp('1996-07-16 12:00:00'),\n Timestamp('1996-07-17 12:00:00'),\n Timestamp('1996-07-18 12:00:00'),\n Timestamp('1996-07-19 12:00:00'),\n Timestamp('1996-07-20 12:00:00'),\n Timestamp('1996-07-21 12:00:00'),\n Timestamp('1996-07-22 12:00:00'),\n Timestamp('1996-07-23 12:00:00'),\n Timestamp('1996-07-24 12:00:00'),\n Timestamp('1996-07-25 12:00:00'),\n Timestamp('1996-07-26 12:00:00'),\n Timestamp('1996-07-27 12:00:00'),\n Timestamp('1996-07-28 12:00:00'),\n Timestamp('1996-07-29 12:00:00'),\n Timestamp('1996-07-30 12:00:00'),\n Timestamp('1996-07-31 12:00:00'),\n Timestamp('1996-08-01 12:00:00'),\n Timestamp('1996-08-02 12:00:00'),\n Timestamp('1996-08-03 12:00:00'),\n Timestamp('1996-08-04 12:00:00'),\n Timestamp('1996-08-05 12:00:00'),\n Timestamp('1996-08-06 12:00:00'),\n Timestamp('1996-08-07 12:00:00'),\n Timestamp('1996-08-08 12:00:00'),\n Timestamp('1996-08-09 12:00:00'),\n Timestamp('1996-08-10 12:00:00'),\n Timestamp('1996-08-11 12:00:00'),\n Timestamp('1996-08-12 12:00:00'),\n Timestamp('1996-08-13 12:00:00'),\n Timestamp('1996-08-14 12:00:00'),\n Timestamp('1996-08-15 12:00:00'),\n Timestamp('1996-08-16 12:00:00'),\n Timestamp('1996-08-17 12:00:00'),\n Timestamp('1996-08-18 12:00:00'),\n Timestamp('1996-08-19 12:00:00'),\n Timestamp('1996-08-20 12:00:00'),\n Timestamp('1996-08-21 12:00:00'),\n Timestamp('1996-08-22 12:00:00'),\n Timestamp('1996-08-23 12:00:00'),\n Timestamp('1996-08-24 12:00:00'),\n Timestamp('1996-08-25 12:00:00'),\n Timestamp('1996-08-26 12:00:00'),\n Timestamp('1996-08-27 12:00:00'),\n Timestamp('1996-08-28 12:00:00'),\n Timestamp('1996-08-29 12:00:00'),\n Timestamp('1996-08-30 12:00:00'),\n Timestamp('1996-08-31 12:00:00'),\n Timestamp('1996-09-01 12:00:00'),\n Timestamp('1996-09-02 12:00:00'),\n Timestamp('1996-09-03 12:00:00'),\n Timestamp('1996-09-04 12:00:00'),\n Timestamp('1996-09-05 12:00:00'),\n Timestamp('1996-09-06 12:00:00'),\n Timestamp('1996-09-07 12:00:00'),\n Timestamp('1996-09-08 12:00:00'),\n Timestamp('1996-09-09 12:00:00'),\n Timestamp('1996-09-10 12:00:00'),\n Timestamp('1996-09-11 12:00:00'),\n Timestamp('1996-09-12 12:00:00'),\n Timestamp('1996-09-13 12:00:00'),\n Timestamp('1996-09-14 12:00:00'),\n Timestamp('1996-09-15 12:00:00'),\n Timestamp('1996-09-16 12:00:00'),\n Timestamp('1996-09-17 12:00:00'),\n Timestamp('1996-09-18 12:00:00'),\n Timestamp('1996-09-19 12:00:00'),\n Timestamp('1996-09-20 12:00:00'),\n Timestamp('1996-09-21 12:00:00'),\n Timestamp('1996-09-22 12:00:00'),\n Timestamp('1996-09-23 12:00:00'),\n Timestamp('1996-09-24 12:00:00'),\n Timestamp('1996-09-25 12:00:00'),\n Timestamp('1996-09-26 12:00:00'),\n Timestamp('1996-09-27 12:00:00'),\n Timestamp('1996-09-28 12:00:00'),\n Timestamp('1996-09-29 12:00:00'),\n Timestamp('1996-09-30 12:00:00'),\n Timestamp('1996-10-01 12:00:00'),\n Timestamp('1996-10-02 12:00:00'),\n Timestamp('1996-10-03 12:00:00'),\n Timestamp('1996-10-04 12:00:00'),\n Timestamp('1996-10-05 12:00:00'),\n Timestamp('1996-10-06 12:00:00'),\n Timestamp('1996-10-07 12:00:00'),\n Timestamp('1996-10-08 12:00:00'),\n Timestamp('1996-10-09 12:00:00'),\n Timestamp('1996-10-10 12:00:00'),\n Timestamp('1996-10-11 12:00:00'),\n Timestamp('1996-10-12 12:00:00'),\n Timestamp('1996-10-13 12:00:00'),\n Timestamp('1996-10-14 12:00:00'),\n Timestamp('1996-10-15 12:00:00'),\n Timestamp('1996-10-16 12:00:00'),\n Timestamp('1996-10-17 12:00:00'),\n Timestamp('1996-10-18 12:00:00'),\n Timestamp('1996-10-19 12:00:00'),\n Timestamp('1996-10-20 12:00:00'),\n Timestamp('1996-10-21 12:00:00'),\n Timestamp('1996-10-22 12:00:00'),\n Timestamp('1996-10-23 12:00:00'),\n Timestamp('1996-10-24 12:00:00'),\n Timestamp('1996-10-25 12:00:00'),\n Timestamp('1996-10-26 12:00:00'),\n Timestamp('1996-10-27 12:00:00'),\n Timestamp('1996-10-28 12:00:00'),\n Timestamp('1996-10-29 12:00:00'),\n Timestamp('1996-10-30 12:00:00'),\n Timestamp('1996-10-31 12:00:00'),\n Timestamp('1996-11-01 12:00:00'),\n Timestamp('1996-11-02 12:00:00'),\n Timestamp('1996-11-03 12:00:00'),\n Timestamp('1996-11-04 12:00:00'),\n Timestamp('1996-11-05 12:00:00'),\n Timestamp('1996-11-06 12:00:00'),\n Timestamp('1996-11-07 12:00:00'),\n Timestamp('1996-11-08 12:00:00'),\n Timestamp('1996-11-09 12:00:00'),\n Timestamp('1996-11-10 12:00:00'),\n Timestamp('1996-11-11 12:00:00'),\n Timestamp('1996-11-12 12:00:00'),\n Timestamp('1996-11-13 12:00:00'),\n Timestamp('1996-11-14 12:00:00'),\n Timestamp('1996-11-15 12:00:00'),\n Timestamp('1996-11-16 12:00:00'),\n Timestamp('1996-11-17 12:00:00'),\n Timestamp('1996-11-18 12:00:00'),\n Timestamp('1996-11-19 12:00:00'),\n Timestamp('1996-11-20 12:00:00'),\n Timestamp('1996-11-21 12:00:00'),\n Timestamp('1996-11-22 12:00:00'),\n Timestamp('1996-11-23 12:00:00'),\n Timestamp('1996-11-24 12:00:00'),\n Timestamp('1996-11-25 12:00:00'),\n Timestamp('1996-11-26 12:00:00'),\n Timestamp('1996-11-27 12:00:00'),\n Timestamp('1996-11-28 12:00:00'),\n Timestamp('1996-11-29 12:00:00'),\n Timestamp('1996-11-30 12:00:00'),\n Timestamp('1996-12-01 12:00:00'),\n Timestamp('1996-12-02 12:00:00'),\n Timestamp('1996-12-03 12:00:00'),\n Timestamp('1996-12-04 12:00:00'),\n Timestamp('1996-12-05 12:00:00'),\n Timestamp('1996-12-06 12:00:00'),\n Timestamp('1996-12-07 12:00:00'),\n Timestamp('1996-12-08 12:00:00'),\n Timestamp('1996-12-09 12:00:00'),\n Timestamp('1996-12-10 12:00:00'),\n Timestamp('1996-12-11 12:00:00'),\n Timestamp('1996-12-12 12:00:00'),\n Timestamp('1996-12-13 12:00:00'),\n Timestamp('1996-12-14 12:00:00'),\n Timestamp('1996-12-15 12:00:00'),\n Timestamp('1996-12-16 12:00:00'),\n Timestamp('1996-12-17 12:00:00'),\n Timestamp('1996-12-18 12:00:00'),\n Timestamp('1996-12-19 12:00:00'),\n Timestamp('1996-12-20 12:00:00'),\n Timestamp('1996-12-21 12:00:00'),\n Timestamp('1996-12-22 12:00:00'),\n Timestamp('1996-12-23 12:00:00'),\n Timestamp('1996-12-24 12:00:00'),\n Timestamp('1996-12-25 12:00:00'),\n Timestamp('1996-12-26 12:00:00'),\n Timestamp('1996-12-27 12:00:00'),\n Timestamp('1996-12-28 12:00:00'),\n Timestamp('1996-12-29 12:00:00'),\n Timestamp('1996-12-30 12:00:00'),\n Timestamp('1996-12-31 12:00:00'),\n Timestamp('1997-01-01 12:00:00'),\n Timestamp('1997-01-02 12:00:00'),\n Timestamp('1997-01-03 12:00:00'),\n Timestamp('1997-01-04 12:00:00'),\n Timestamp('1997-01-05 12:00:00'),\n Timestamp('1997-01-06 12:00:00'),\n Timestamp('1997-01-07 12:00:00'),\n Timestamp('1997-01-08 12:00:00'),\n Timestamp('1997-01-09 12:00:00'),\n Timestamp('1997-01-10 12:00:00'),\n Timestamp('1997-01-11 12:00:00'),\n Timestamp('1997-01-12 12:00:00'),\n Timestamp('1997-01-13 12:00:00'),\n Timestamp('1997-01-14 12:00:00'),\n Timestamp('1997-01-15 12:00:00'),\n Timestamp('1997-01-16 12:00:00'),\n Timestamp('1997-01-17 12:00:00'),\n Timestamp('1997-01-18 12:00:00'),\n Timestamp('1997-01-19 12:00:00'),\n Timestamp('1997-01-20 12:00:00'),\n Timestamp('1997-01-21 12:00:00'),\n Timestamp('1997-01-22 12:00:00'),\n Timestamp('1997-01-23 12:00:00'),\n Timestamp('1997-01-24 12:00:00'),\n Timestamp('1997-01-25 12:00:00'),\n Timestamp('1997-01-26 12:00:00'),\n Timestamp('1997-01-27 12:00:00'),\n Timestamp('1997-01-28 12:00:00'),\n Timestamp('1997-01-29 12:00:00'),\n Timestamp('1997-01-30 12:00:00'),\n Timestamp('1997-01-31 12:00:00'),\n Timestamp('1997-02-01 12:00:00'),\n Timestamp('1997-02-02 12:00:00'),\n Timestamp('1997-02-03 12:00:00'),\n Timestamp('1997-02-04 12:00:00'),\n Timestamp('1997-02-05 12:00:00'),\n Timestamp('1997-02-06 12:00:00'),\n Timestamp('1997-02-07 12:00:00'),\n Timestamp('1997-02-08 12:00:00'),\n Timestamp('1997-02-09 12:00:00'),\n Timestamp('1997-02-10 12:00:00'),\n Timestamp('1997-02-11 12:00:00'),\n Timestamp('1997-02-12 12:00:00'),\n Timestamp('1997-02-13 12:00:00'),\n Timestamp('1997-02-14 12:00:00'),\n Timestamp('1997-02-15 12:00:00'),\n Timestamp('1997-02-16 12:00:00'),\n Timestamp('1997-02-17 12:00:00'),\n Timestamp('1997-02-18 12:00:00'),\n Timestamp('1997-02-19 12:00:00'),\n Timestamp('1997-02-20 12:00:00'),\n Timestamp('1997-02-21 12:00:00'),\n Timestamp('1997-02-22 12:00:00'),\n Timestamp('1997-02-23 12:00:00'),\n Timestamp('1997-02-24 12:00:00'),\n Timestamp('1997-02-25 12:00:00'),\n Timestamp('1997-02-26 12:00:00'),\n Timestamp('1997-02-27 12:00:00'),\n Timestamp('1997-02-28 12:00:00'),\n Timestamp('1997-03-01 12:00:00'),\n Timestamp('1997-03-02 12:00:00'),\n Timestamp('1997-03-03 12:00:00'),\n Timestamp('1997-03-04 12:00:00'),\n Timestamp('1997-03-05 12:00:00'),\n Timestamp('1997-03-06 12:00:00'),\n Timestamp('1997-03-07 12:00:00'),\n Timestamp('1997-03-08 12:00:00'),\n Timestamp('1997-03-09 12:00:00'),\n Timestamp('1997-03-10 12:00:00'),\n Timestamp('1997-03-11 12:00:00'),\n Timestamp('1997-03-12 12:00:00'),\n Timestamp('1997-03-13 12:00:00'),\n Timestamp('1997-03-14 12:00:00'),\n Timestamp('1997-03-15 12:00:00'),\n Timestamp('1997-03-16 12:00:00'),\n Timestamp('1997-03-17 12:00:00'),\n Timestamp('1997-03-18 12:00:00'),\n Timestamp('1997-03-19 12:00:00'),\n Timestamp('1997-03-20 12:00:00'),\n Timestamp('1997-03-21 12:00:00'),\n Timestamp('1997-03-22 12:00:00'),\n Timestamp('1997-03-23 12:00:00'),\n Timestamp('1997-03-24 12:00:00'),\n Timestamp('1997-03-25 12:00:00'),\n Timestamp('1997-03-26 12:00:00'),\n Timestamp('1997-03-27 12:00:00'),\n Timestamp('1997-03-28 12:00:00'),\n Timestamp('1997-03-29 12:00:00'),\n Timestamp('1997-03-30 12:00:00'),\n Timestamp('1997-03-31 12:00:00'),\n Timestamp('1997-04-01 12:00:00'),\n Timestamp('1997-04-02 12:00:00'),\n Timestamp('1997-04-03 12:00:00'),\n Timestamp('1997-04-04 12:00:00'),\n Timestamp('1997-04-05 12:00:00'),\n Timestamp('1997-04-06 12:00:00'),\n Timestamp('1997-04-07 12:00:00'),\n Timestamp('1997-04-08 12:00:00'),\n Timestamp('1997-04-09 12:00:00'),\n Timestamp('1997-04-10 12:00:00'),\n Timestamp('1997-04-11 12:00:00'),\n Timestamp('1997-04-12 12:00:00'),\n Timestamp('1997-04-13 12:00:00'),\n Timestamp('1997-04-14 12:00:00'),\n Timestamp('1997-04-15 12:00:00'),\n Timestamp('1997-04-16 12:00:00'),\n Timestamp('1997-04-17 12:00:00'),\n Timestamp('1997-04-18 12:00:00'),\n Timestamp('1997-04-19 12:00:00'),\n Timestamp('1997-04-20 12:00:00'),\n Timestamp('1997-04-21 12:00:00'),\n Timestamp('1997-04-22 12:00:00'),\n Timestamp('1997-04-23 12:00:00'),\n Timestamp('1997-04-24 12:00:00'),\n Timestamp('1997-04-25 12:00:00'),\n Timestamp('1997-04-26 12:00:00'),\n Timestamp('1997-04-27 12:00:00'),\n Timestamp('1997-04-28 12:00:00'),\n Timestamp('1997-04-29 12:00:00'),\n Timestamp('1997-04-30 12:00:00'),\n Timestamp('1997-05-01 12:00:00'),\n Timestamp('1997-05-02 12:00:00'),\n Timestamp('1997-05-03 12:00:00'),\n Timestamp('1997-05-04 12:00:00'),\n Timestamp('1997-05-05 12:00:00'),\n Timestamp('1997-05-06 12:00:00'),\n Timestamp('1997-05-07 12:00:00'),\n Timestamp('1997-05-08 12:00:00'),\n Timestamp('1997-05-09 12:00:00'),\n Timestamp('1997-05-10 12:00:00'),\n Timestamp('1997-05-11 12:00:00'),\n Timestamp('1997-05-12 12:00:00'),\n Timestamp('1997-05-13 12:00:00'),\n Timestamp('1997-05-14 12:00:00'),\n Timestamp('1997-05-15 12:00:00'),\n Timestamp('1997-05-16 12:00:00'),\n Timestamp('1997-05-17 12:00:00'),\n Timestamp('1997-05-18 12:00:00'),\n Timestamp('1997-05-19 12:00:00'),\n Timestamp('1997-05-20 12:00:00'),\n Timestamp('1997-05-21 12:00:00'),\n Timestamp('1997-05-22 12:00:00'),\n Timestamp('1997-05-23 12:00:00'),\n Timestamp('1997-05-24 12:00:00'),\n Timestamp('1997-05-25 12:00:00'),\n Timestamp('1997-05-26 12:00:00'),\n Timestamp('1997-05-27 12:00:00'),\n Timestamp('1997-05-28 12:00:00'),\n Timestamp('1997-05-29 12:00:00'),\n Timestamp('1997-05-30 12:00:00'),\n Timestamp('1997-05-31 12:00:00'),\n Timestamp('1997-06-01 12:00:00'),\n Timestamp('1997-06-02 12:00:00'),\n Timestamp('1997-06-03 12:00:00'),\n Timestamp('1997-06-04 12:00:00'),\n Timestamp('1997-06-05 12:00:00'),\n Timestamp('1997-06-06 12:00:00'),\n Timestamp('1997-06-07 12:00:00'),\n Timestamp('1997-06-08 12:00:00'),\n Timestamp('1997-06-09 12:00:00'),\n Timestamp('1997-06-10 12:00:00'),\n Timestamp('1997-06-11 12:00:00'),\n Timestamp('1997-06-12 12:00:00'),\n Timestamp('1997-06-13 12:00:00'),\n Timestamp('1997-06-14 12:00:00'),\n Timestamp('1997-06-15 12:00:00'),\n Timestamp('1997-06-16 12:00:00'),\n Timestamp('1997-06-17 12:00:00'),\n Timestamp('1997-06-18 12:00:00'),\n Timestamp('1997-06-19 12:00:00'),\n Timestamp('1997-06-20 12:00:00'),\n Timestamp('1997-06-21 12:00:00'),\n Timestamp('1997-06-22 12:00:00'),\n Timestamp('1997-06-23 12:00:00'),\n Timestamp('1997-06-24 12:00:00'),\n Timestamp('1997-06-25 12:00:00'),\n Timestamp('1997-06-26 12:00:00'),\n Timestamp('1997-06-27 12:00:00'),\n Timestamp('1997-06-28 12:00:00'),\n Timestamp('1997-06-29 12:00:00'),\n Timestamp('1997-06-30 12:00:00'),\n Timestamp('1997-07-01 12:00:00'),\n Timestamp('1997-07-02 12:00:00'),\n Timestamp('1997-07-03 12:00:00'),\n Timestamp('1997-07-04 12:00:00'),\n Timestamp('1997-07-05 12:00:00'),\n Timestamp('1997-07-06 12:00:00'),\n Timestamp('1997-07-07 12:00:00'),\n Timestamp('1997-07-08 12:00:00'),\n Timestamp('1997-07-09 12:00:00'),\n Timestamp('1997-07-10 12:00:00'),\n Timestamp('1997-07-11 12:00:00'),\n Timestamp('1997-07-12 12:00:00'),\n Timestamp('1997-07-13 12:00:00'),\n Timestamp('1997-07-14 12:00:00'),\n Timestamp('1997-07-15 12:00:00'),\n Timestamp('1997-07-16 12:00:00'),\n Timestamp('1997-07-17 12:00:00'),\n Timestamp('1997-07-18 12:00:00'),\n Timestamp('1997-07-19 12:00:00'),\n Timestamp('1997-07-20 12:00:00'),\n Timestamp('1997-07-21 12:00:00'),\n Timestamp('1997-07-22 12:00:00'),\n Timestamp('1997-07-23 12:00:00'),\n Timestamp('1997-07-24 12:00:00'),\n Timestamp('1997-07-25 12:00:00'),\n Timestamp('1997-07-26 12:00:00'),\n Timestamp('1997-07-27 12:00:00'),\n Timestamp('1997-07-28 12:00:00'),\n Timestamp('1997-07-29 12:00:00'),\n Timestamp('1997-07-30 12:00:00'),\n Timestamp('1997-07-31 12:00:00'),\n Timestamp('1997-08-01 12:00:00'),\n Timestamp('1997-08-02 12:00:00'),\n Timestamp('1997-08-03 12:00:00'),\n Timestamp('1997-08-04 12:00:00'),\n Timestamp('1997-08-05 12:00:00'),\n Timestamp('1997-08-06 12:00:00'),\n Timestamp('1997-08-07 12:00:00'),\n Timestamp('1997-08-08 12:00:00'),\n Timestamp('1997-08-09 12:00:00'),\n Timestamp('1997-08-10 12:00:00'),\n Timestamp('1997-08-11 12:00:00'),\n Timestamp('1997-08-12 12:00:00'),\n Timestamp('1997-08-13 12:00:00'),\n Timestamp('1997-08-14 12:00:00'),\n Timestamp('1997-08-15 12:00:00'),\n Timestamp('1997-08-16 12:00:00'),\n Timestamp('1997-08-17 12:00:00'),\n Timestamp('1997-08-18 12:00:00'),\n Timestamp('1997-08-19 12:00:00'),\n Timestamp('1997-08-20 12:00:00'),\n Timestamp('1997-08-21 12:00:00'),\n Timestamp('1997-08-22 12:00:00'),\n Timestamp('1997-08-23 12:00:00'),\n Timestamp('1997-08-24 12:00:00'),\n Timestamp('1997-08-25 12:00:00'),\n Timestamp('1997-08-26 12:00:00'),\n Timestamp('1997-08-27 12:00:00'),\n Timestamp('1997-08-28 12:00:00'),\n Timestamp('1997-08-29 12:00:00'),\n Timestamp('1997-08-30 12:00:00'),\n Timestamp('1997-08-31 12:00:00'),\n Timestamp('1997-09-01 12:00:00'),\n Timestamp('1997-09-02 12:00:00'),\n Timestamp('1997-09-03 12:00:00'),\n Timestamp('1997-09-04 12:00:00'),\n Timestamp('1997-09-05 12:00:00'),\n Timestamp('1997-09-06 12:00:00'),\n Timestamp('1997-09-07 12:00:00'),\n Timestamp('1997-09-08 12:00:00'),\n Timestamp('1997-09-09 12:00:00'),\n Timestamp('1997-09-10 12:00:00'),\n Timestamp('1997-09-11 12:00:00'),\n Timestamp('1997-09-12 12:00:00'),\n Timestamp('1997-09-13 12:00:00'),\n Timestamp('1997-09-14 12:00:00'),\n Timestamp('1997-09-15 12:00:00'),\n Timestamp('1997-09-16 12:00:00'),\n Timestamp('1997-09-17 12:00:00'),\n Timestamp('1997-09-18 12:00:00'),\n Timestamp('1997-09-19 12:00:00'),\n Timestamp('1997-09-20 12:00:00'),\n Timestamp('1997-09-21 12:00:00'),\n Timestamp('1997-09-22 12:00:00'),\n Timestamp('1997-09-23 12:00:00'),\n Timestamp('1997-09-24 12:00:00'),\n Timestamp('1997-09-25 12:00:00'),\n Timestamp('1997-09-26 12:00:00'),\n Timestamp('1997-09-27 12:00:00'),\n Timestamp('1997-09-28 12:00:00'),\n Timestamp('1997-09-29 12:00:00'),\n Timestamp('1997-09-30 12:00:00'),\n Timestamp('1997-10-01 12:00:00'),\n Timestamp('1997-10-02 12:00:00'),\n Timestamp('1997-10-03 12:00:00'),\n Timestamp('1997-10-04 12:00:00'),\n Timestamp('1997-10-05 12:00:00'),\n Timestamp('1997-10-06 12:00:00'),\n Timestamp('1997-10-07 12:00:00'),\n Timestamp('1997-10-08 12:00:00'),\n Timestamp('1997-10-09 12:00:00'),\n Timestamp('1997-10-10 12:00:00'),\n Timestamp('1997-10-11 12:00:00'),\n Timestamp('1997-10-12 12:00:00'),\n Timestamp('1997-10-13 12:00:00'),\n Timestamp('1997-10-14 12:00:00'),\n Timestamp('1997-10-15 12:00:00'),\n Timestamp('1997-10-16 12:00:00'),\n Timestamp('1997-10-17 12:00:00'),\n Timestamp('1997-10-18 12:00:00'),\n Timestamp('1997-10-19 12:00:00'),\n Timestamp('1997-10-20 12:00:00'),\n Timestamp('1997-10-21 12:00:00'),\n Timestamp('1997-10-22 12:00:00'),\n Timestamp('1997-10-23 12:00:00'),\n Timestamp('1997-10-24 12:00:00'),\n Timestamp('1997-10-25 12:00:00'),\n Timestamp('1997-10-26 12:00:00'),\n Timestamp('1997-10-27 12:00:00'),\n Timestamp('1997-10-28 12:00:00'),\n Timestamp('1997-10-29 12:00:00'),\n Timestamp('1997-10-30 12:00:00'),\n Timestamp('1997-10-31 12:00:00'),\n Timestamp('1997-11-01 12:00:00'),\n Timestamp('1997-11-02 12:00:00'),\n Timestamp('1997-11-03 12:00:00'),\n Timestamp('1997-11-04 12:00:00'),\n Timestamp('1997-11-05 12:00:00'),\n Timestamp('1997-11-06 12:00:00'),\n Timestamp('1997-11-07 12:00:00'),\n Timestamp('1997-11-08 12:00:00'),\n Timestamp('1997-11-09 12:00:00'),\n Timestamp('1997-11-10 12:00:00'),\n Timestamp('1997-11-11 12:00:00'),\n Timestamp('1997-11-12 12:00:00'),\n Timestamp('1997-11-13 12:00:00'),\n Timestamp('1997-11-14 12:00:00'),\n Timestamp('1997-11-15 12:00:00'),\n Timestamp('1997-11-16 12:00:00'),\n Timestamp('1997-11-17 12:00:00'),\n Timestamp('1997-11-18 12:00:00'),\n Timestamp('1997-11-19 12:00:00'),\n Timestamp('1997-11-20 12:00:00'),\n Timestamp('1997-11-21 12:00:00'),\n Timestamp('1997-11-22 12:00:00'),\n Timestamp('1997-11-23 12:00:00'),\n Timestamp('1997-11-24 12:00:00'),\n Timestamp('1997-11-25 12:00:00'),\n Timestamp('1997-11-26 12:00:00'),\n Timestamp('1997-11-27 12:00:00'),\n Timestamp('1997-11-28 12:00:00'),\n Timestamp('1997-11-29 12:00:00'),\n Timestamp('1997-11-30 12:00:00'),\n Timestamp('1997-12-01 12:00:00'),\n Timestamp('1997-12-02 12:00:00'),\n Timestamp('1997-12-03 12:00:00'),\n Timestamp('1997-12-04 12:00:00'),\n Timestamp('1997-12-05 12:00:00'),\n Timestamp('1997-12-06 12:00:00'),\n Timestamp('1997-12-07 12:00:00'),\n Timestamp('1997-12-08 12:00:00'),\n Timestamp('1997-12-09 12:00:00'),\n Timestamp('1997-12-10 12:00:00'),\n Timestamp('1997-12-11 12:00:00'),\n Timestamp('1997-12-12 12:00:00'),\n Timestamp('1997-12-13 12:00:00'),\n Timestamp('1997-12-14 12:00:00'),\n Timestamp('1997-12-15 12:00:00'),\n Timestamp('1997-12-16 12:00:00'),\n Timestamp('1997-12-17 12:00:00'),\n Timestamp('1997-12-18 12:00:00'),\n Timestamp('1997-12-19 12:00:00'),\n Timestamp('1997-12-20 12:00:00'),\n Timestamp('1997-12-21 12:00:00'),\n Timestamp('1997-12-22 12:00:00'),\n Timestamp('1997-12-23 12:00:00'),\n Timestamp('1997-12-24 12:00:00'),\n Timestamp('1997-12-25 12:00:00'),\n Timestamp('1997-12-26 12:00:00'),\n Timestamp('1997-12-27 12:00:00'),\n Timestamp('1997-12-28 12:00:00'),\n Timestamp('1997-12-29 12:00:00'),\n Timestamp('1997-12-30 12:00:00'),\n Timestamp('1997-12-31 12:00:00'),\n Timestamp('1998-01-01 12:00:00'),\n Timestamp('1998-01-02 12:00:00'),\n Timestamp('1998-01-03 12:00:00'),\n Timestamp('1998-01-04 12:00:00'),\n Timestamp('1998-01-05 12:00:00'),\n Timestamp('1998-01-06 12:00:00'),\n Timestamp('1998-01-07 12:00:00'),\n Timestamp('1998-01-08 12:00:00'),\n Timestamp('1998-01-09 12:00:00'),\n Timestamp('1998-01-10 12:00:00'),\n Timestamp('1998-01-11 12:00:00'),\n Timestamp('1998-01-12 12:00:00'),\n Timestamp('1998-01-13 12:00:00'),\n Timestamp('1998-01-14 12:00:00'),\n Timestamp('1998-01-15 12:00:00'),\n Timestamp('1998-01-16 12:00:00'),\n Timestamp('1998-01-17 12:00:00'),\n Timestamp('1998-01-18 12:00:00'),\n Timestamp('1998-01-19 12:00:00'),\n Timestamp('1998-01-20 12:00:00'),\n Timestamp('1998-01-21 12:00:00'),\n Timestamp('1998-01-22 12:00:00'),\n Timestamp('1998-01-23 12:00:00'),\n Timestamp('1998-01-24 12:00:00'),\n Timestamp('1998-01-25 12:00:00'),\n Timestamp('1998-01-26 12:00:00'),\n Timestamp('1998-01-27 12:00:00'),\n Timestamp('1998-01-28 12:00:00'),\n Timestamp('1998-01-29 12:00:00'),\n Timestamp('1998-01-30 12:00:00'),\n Timestamp('1998-01-31 12:00:00'),\n Timestamp('1998-02-01 12:00:00'),\n Timestamp('1998-02-02 12:00:00'),\n Timestamp('1998-02-03 12:00:00'),\n Timestamp('1998-02-04 12:00:00'),\n Timestamp('1998-02-05 12:00:00'),\n Timestamp('1998-02-06 12:00:00'),\n Timestamp('1998-02-07 12:00:00'),\n Timestamp('1998-02-08 12:00:00'),\n Timestamp('1998-02-09 12:00:00'),\n Timestamp('1998-02-10 12:00:00'),\n Timestamp('1998-02-11 12:00:00'),\n Timestamp('1998-02-12 12:00:00'),\n Timestamp('1998-02-13 12:00:00'),\n Timestamp('1998-02-14 12:00:00'),\n Timestamp('1998-02-15 12:00:00'),\n Timestamp('1998-02-16 12:00:00'),\n Timestamp('1998-02-17 12:00:00'),\n Timestamp('1998-02-18 12:00:00'),\n Timestamp('1998-02-19 12:00:00'),\n Timestamp('1998-02-20 12:00:00'),\n Timestamp('1998-02-21 12:00:00'),\n Timestamp('1998-02-22 12:00:00'),\n Timestamp('1998-02-23 12:00:00'),\n Timestamp('1998-02-24 12:00:00'),\n Timestamp('1998-02-25 12:00:00'),\n Timestamp('1998-02-26 12:00:00'),\n Timestamp('1998-02-27 12:00:00'),\n Timestamp('1998-02-28 12:00:00'),\n Timestamp('1998-03-01 12:00:00'),\n Timestamp('1998-03-02 12:00:00'),\n Timestamp('1998-03-03 12:00:00'),\n Timestamp('1998-03-04 12:00:00'),\n Timestamp('1998-03-05 12:00:00'),\n Timestamp('1998-03-06 12:00:00'),\n Timestamp('1998-03-07 12:00:00'),\n Timestamp('1998-03-08 12:00:00'),\n Timestamp('1998-03-09 12:00:00'),\n Timestamp('1998-03-10 12:00:00'),\n Timestamp('1998-03-11 12:00:00'),\n Timestamp('1998-03-12 12:00:00'),\n Timestamp('1998-03-13 12:00:00'),\n Timestamp('1998-03-14 12:00:00'),\n Timestamp('1998-03-15 12:00:00'),\n Timestamp('1998-03-16 12:00:00'),\n Timestamp('1998-03-17 12:00:00'),\n Timestamp('1998-03-18 12:00:00'),\n Timestamp('1998-03-19 12:00:00'),\n Timestamp('1998-03-20 12:00:00'),\n Timestamp('1998-03-21 12:00:00'),\n Timestamp('1998-03-22 12:00:00'),\n Timestamp('1998-03-23 12:00:00'),\n Timestamp('1998-03-24 12:00:00'),\n Timestamp('1998-03-25 12:00:00'),\n Timestamp('1998-03-26 12:00:00'),\n Timestamp('1998-03-27 12:00:00'),\n Timestamp('1998-03-28 12:00:00'),\n Timestamp('1998-03-29 12:00:00'),\n Timestamp('1998-03-30 12:00:00'),\n Timestamp('1998-03-31 12:00:00'),\n Timestamp('1998-04-01 12:00:00'),\n Timestamp('1998-04-02 12:00:00'),\n Timestamp('1998-04-03 12:00:00'),\n Timestamp('1998-04-04 12:00:00'),\n Timestamp('1998-04-05 12:00:00'),\n Timestamp('1998-04-06 12:00:00'),\n Timestamp('1998-04-07 12:00:00'),\n Timestamp('1998-04-08 12:00:00'),\n Timestamp('1998-04-09 12:00:00'),\n Timestamp('1998-04-10 12:00:00'),\n Timestamp('1998-04-11 12:00:00'),\n Timestamp('1998-04-12 12:00:00'),\n Timestamp('1998-04-13 12:00:00'),\n Timestamp('1998-04-14 12:00:00'),\n Timestamp('1998-04-15 12:00:00'),\n Timestamp('1998-04-16 12:00:00'),\n Timestamp('1998-04-17 12:00:00'),\n Timestamp('1998-04-18 12:00:00'),\n Timestamp('1998-04-19 12:00:00'),\n Timestamp('1998-04-20 12:00:00'),\n Timestamp('1998-04-21 12:00:00'),\n Timestamp('1998-04-22 12:00:00'),\n Timestamp('1998-04-23 12:00:00'),\n Timestamp('1998-04-24 12:00:00'),\n Timestamp('1998-04-25 12:00:00'),\n Timestamp('1998-04-26 12:00:00'),\n Timestamp('1998-04-27 12:00:00'),\n Timestamp('1998-04-28 12:00:00'),\n Timestamp('1998-04-29 12:00:00'),\n Timestamp('1998-04-30 12:00:00'),\n Timestamp('1998-05-01 12:00:00'),\n Timestamp('1998-05-02 12:00:00'),\n Timestamp('1998-05-03 12:00:00'),\n Timestamp('1998-05-04 12:00:00'),\n Timestamp('1998-05-05 12:00:00'),\n Timestamp('1998-05-06 12:00:00'),\n Timestamp('1998-05-07 12:00:00'),\n Timestamp('1998-05-08 12:00:00'),\n Timestamp('1998-05-09 12:00:00'),\n Timestamp('1998-05-10 12:00:00'),\n Timestamp('1998-05-11 12:00:00'),\n Timestamp('1998-05-12 12:00:00'),\n Timestamp('1998-05-13 12:00:00'),\n Timestamp('1998-05-14 12:00:00'),\n Timestamp('1998-05-15 12:00:00'),\n Timestamp('1998-05-16 12:00:00'),\n Timestamp('1998-05-17 12:00:00'),\n Timestamp('1998-05-18 12:00:00'),\n Timestamp('1998-05-19 12:00:00'),\n Timestamp('1998-05-20 12:00:00'),\n Timestamp('1998-05-21 12:00:00'),\n Timestamp('1998-05-22 12:00:00'),\n Timestamp('1998-05-23 12:00:00'),\n Timestamp('1998-05-24 12:00:00'),\n Timestamp('1998-05-25 12:00:00'),\n Timestamp('1998-05-26 12:00:00'),\n Timestamp('1998-05-27 12:00:00'),\n Timestamp('1998-05-28 12:00:00'),\n Timestamp('1998-05-29 12:00:00'),\n Timestamp('1998-05-30 12:00:00'),\n Timestamp('1998-05-31 12:00:00'),\n Timestamp('1998-06-01 12:00:00'),\n Timestamp('1998-06-02 12:00:00'),\n Timestamp('1998-06-03 12:00:00'),\n Timestamp('1998-06-04 12:00:00'),\n Timestamp('1998-06-05 12:00:00'),\n Timestamp('1998-06-06 12:00:00'),\n Timestamp('1998-06-07 12:00:00'),\n Timestamp('1998-06-08 12:00:00'),\n Timestamp('1998-06-09 12:00:00'),\n Timestamp('1998-06-10 12:00:00'),\n Timestamp('1998-06-11 12:00:00'),\n Timestamp('1998-06-12 12:00:00'),\n Timestamp('1998-06-13 12:00:00'),\n Timestamp('1998-06-14 12:00:00'),\n Timestamp('1998-06-15 12:00:00'),\n Timestamp('1998-06-16 12:00:00'),\n Timestamp('1998-06-17 12:00:00'),\n Timestamp('1998-06-18 12:00:00'),\n Timestamp('1998-06-19 12:00:00'),\n Timestamp('1998-06-20 12:00:00'),\n Timestamp('1998-06-21 12:00:00'),\n Timestamp('1998-06-22 12:00:00'),\n Timestamp('1998-06-23 12:00:00'),\n Timestamp('1998-06-24 12:00:00'),\n Timestamp('1998-06-25 12:00:00'),\n Timestamp('1998-06-26 12:00:00'),\n Timestamp('1998-06-27 12:00:00'),\n Timestamp('1998-06-28 12:00:00'),\n Timestamp('1998-06-29 12:00:00'),\n Timestamp('1998-06-30 12:00:00'),\n Timestamp('1998-07-01 12:00:00'),\n Timestamp('1998-07-02 12:00:00'),\n Timestamp('1998-07-03 12:00:00'),\n Timestamp('1998-07-04 12:00:00'),\n Timestamp('1998-07-05 12:00:00'),\n Timestamp('1998-07-06 12:00:00'),\n Timestamp('1998-07-07 12:00:00'),\n Timestamp('1998-07-08 12:00:00'),\n Timestamp('1998-07-09 12:00:00'),\n Timestamp('1998-07-10 12:00:00'),\n Timestamp('1998-07-11 12:00:00'),\n Timestamp('1998-07-12 12:00:00'),\n Timestamp('1998-07-13 12:00:00'),\n Timestamp('1998-07-14 12:00:00'),\n Timestamp('1998-07-15 12:00:00'),\n Timestamp('1998-07-16 12:00:00'),\n Timestamp('1998-07-17 12:00:00'),\n Timestamp('1998-07-18 12:00:00'),\n Timestamp('1998-07-19 12:00:00'),\n Timestamp('1998-07-20 12:00:00'),\n Timestamp('1998-07-21 12:00:00'),\n Timestamp('1998-07-22 12:00:00'),\n Timestamp('1998-07-23 12:00:00'),\n Timestamp('1998-07-24 12:00:00'),\n Timestamp('1998-07-25 12:00:00'),\n Timestamp('1998-07-26 12:00:00'),\n Timestamp('1998-07-27 12:00:00'),\n Timestamp('1998-07-28 12:00:00'),\n Timestamp('1998-07-29 12:00:00'),\n Timestamp('1998-07-30 12:00:00'),\n Timestamp('1998-07-31 12:00:00'),\n Timestamp('1998-08-01 12:00:00'),\n Timestamp('1998-08-02 12:00:00'),\n Timestamp('1998-08-03 12:00:00'),\n Timestamp('1998-08-04 12:00:00'),\n Timestamp('1998-08-05 12:00:00'),\n Timestamp('1998-08-06 12:00:00'),\n Timestamp('1998-08-07 12:00:00'),\n Timestamp('1998-08-08 12:00:00'),\n Timestamp('1998-08-09 12:00:00'),\n Timestamp('1998-08-10 12:00:00'),\n Timestamp('1998-08-11 12:00:00'),\n Timestamp('1998-08-12 12:00:00'),\n Timestamp('1998-08-13 12:00:00'),\n Timestamp('1998-08-14 12:00:00'),\n Timestamp('1998-08-15 12:00:00'),\n Timestamp('1998-08-16 12:00:00'),\n Timestamp('1998-08-17 12:00:00'),\n Timestamp('1998-08-18 12:00:00'),\n Timestamp('1998-08-19 12:00:00'),\n Timestamp('1998-08-20 12:00:00'),\n Timestamp('1998-08-21 12:00:00'),\n Timestamp('1998-08-22 12:00:00'),\n Timestamp('1998-08-23 12:00:00'),\n Timestamp('1998-08-24 12:00:00'),\n Timestamp('1998-08-25 12:00:00'),\n Timestamp('1998-08-26 12:00:00'),\n Timestamp('1998-08-27 12:00:00'),\n Timestamp('1998-08-28 12:00:00'),\n Timestamp('1998-08-29 12:00:00'),\n Timestamp('1998-08-30 12:00:00'),\n Timestamp('1998-08-31 12:00:00'),\n Timestamp('1998-09-01 12:00:00'),\n Timestamp('1998-09-02 12:00:00'),\n Timestamp('1998-09-03 12:00:00'),\n Timestamp('1998-09-04 12:00:00'),\n Timestamp('1998-09-05 12:00:00'),\n Timestamp('1998-09-06 12:00:00'),\n Timestamp('1998-09-07 12:00:00'),\n Timestamp('1998-09-08 12:00:00'),\n Timestamp('1998-09-09 12:00:00'),\n Timestamp('1998-09-10 12:00:00'),\n Timestamp('1998-09-11 12:00:00'),\n Timestamp('1998-09-12 12:00:00'),\n Timestamp('1998-09-13 12:00:00'),\n Timestamp('1998-09-14 12:00:00'),\n Timestamp('1998-09-15 12:00:00'),\n Timestamp('1998-09-16 12:00:00'),\n Timestamp('1998-09-17 12:00:00'),\n Timestamp('1998-09-18 12:00:00'),\n Timestamp('1998-09-19 12:00:00'),\n Timestamp('1998-09-20 12:00:00'),\n Timestamp('1998-09-21 12:00:00'),\n Timestamp('1998-09-22 12:00:00'),\n Timestamp('1998-09-23 12:00:00'),\n Timestamp('1998-09-24 12:00:00'),\n Timestamp('1998-09-25 12:00:00'),\n Timestamp('1998-09-26 12:00:00'),\n ...]"
     },
     "execution_count": 18,
     "metadata": {},
     "output_type": "execute_result"
    }
   ],
   "source": [
    "from pathlib import Path\n",
    "import pandas as pd\n",
    "path = Path().home() / 'Python/data/tehaleh_wls.xlsx'\n",
    "dfdd = pd.read_excel(path, sheet_name='WellDD').set_index('Date Time').apply(lambda col: pd.to_numeric(col, errors='coerce'))\n",
    "dfdd.index.to_list()"
   ],
   "metadata": {
    "collapsed": false,
    "ExecuteTime": {
     "end_time": "2024-03-27T19:08:19.531589400Z",
     "start_time": "2024-03-27T19:08:17.764210400Z"
    }
   },
   "id": "7870c98c0cc41cf2"
  },
  {
   "cell_type": "code",
   "execution_count": 20,
   "outputs": [
    {
     "name": "stdout",
     "output_type": "stream",
     "text": [
      "WellHD\n",
      "WellHD\n"
     ]
    }
   ],
   "source": [
    "import pandas as pd\n",
    "from pathlib import Path\n",
    "from bokeh.plotting import figure, show\n",
    "from bokeh.models import ColumnDataSource\n",
    "path = Path().home() / 'Python/data/tehaleh_wls.xlsx'\n",
    "df_dd = pd.read_excel(path, sheet_name='WellDD').set_index('Date Time').apply(\n",
    "    lambda column: pd.to_numeric(column, errors='coerce'))\n",
    "df_dd = df_dd.drop(['Month', 'Year', 'Water Year'], axis='columns')\n",
    "df_hd = pd.read_excel(path, sheet_name='WellHD').set_index('Date').apply(\n",
    "    lambda column: pd.to_numeric(column, errors='coerce'))\n"
   ],
   "metadata": {
    "collapsed": false,
    "ExecuteTime": {
     "end_time": "2024-03-28T20:06:09.256289900Z",
     "start_time": "2024-03-28T20:06:07.797069800Z"
    }
   },
   "id": "9a016fc4cec0e27c"
  },
  {
   "cell_type": "code",
   "execution_count": 38,
   "outputs": [
    {
     "data": {
      "text/plain": "442.93999999999994"
     },
     "execution_count": 38,
     "metadata": {},
     "output_type": "execute_result"
    }
   ],
   "source": [
    "tw6 = df_hd['TW-6'].dropna()\n",
    "tw6.loc[:'10/2022'].min()"
   ],
   "metadata": {
    "collapsed": false,
    "ExecuteTime": {
     "end_time": "2024-03-28T20:40:37.543304200Z",
     "start_time": "2024-03-28T20:40:37.524265900Z"
    }
   },
   "id": "9c3aa77351a5d9ec"
  },
  {
   "cell_type": "code",
   "execution_count": 24,
   "outputs": [
    {
     "ename": "NameError",
     "evalue": "name 'df_dd' is not defined",
     "output_type": "error",
     "traceback": [
      "\u001B[1;31m---------------------------------------------------------------------------\u001B[0m",
      "\u001B[1;31mNameError\u001B[0m                                 Traceback (most recent call last)",
      "Cell \u001B[1;32mIn[24], line 3\u001B[0m\n\u001B[0;32m      1\u001B[0m \u001B[38;5;28;01mfrom\u001B[39;00m \u001B[38;5;21;01mfigs\u001B[39;00m\u001B[38;5;21;01m.\u001B[39;00m\u001B[38;5;21;01m_fig\u001B[39;00m \u001B[38;5;28;01mimport\u001B[39;00m Fig\n\u001B[0;32m      2\u001B[0m fig \u001B[38;5;241m=\u001B[39m Fig()\n\u001B[1;32m----> 3\u001B[0m \u001B[38;5;28;01mfor\u001B[39;00m col \u001B[38;5;129;01min\u001B[39;00m \u001B[43mdf_dd\u001B[49m\u001B[38;5;241m.\u001B[39mcolumns:\n\u001B[0;32m      4\u001B[0m     fig\u001B[38;5;241m.\u001B[39madd_scattergl(x\u001B[38;5;241m=\u001B[39mdf_dd\u001B[38;5;241m.\u001B[39mindex, y\u001B[38;5;241m=\u001B[39mdf_dd[col], name\u001B[38;5;241m=\u001B[39mcol)\n\u001B[0;32m      5\u001B[0m fig\u001B[38;5;241m.\u001B[39mshow()\n",
      "\u001B[1;31mNameError\u001B[0m: name 'df_dd' is not defined"
     ]
    }
   ],
   "source": [
    "from figs._fig import Fig\n",
    "fig = Fig()\n",
    "for col in df_dd.columns:\n",
    "    fig.add_scattergl(x=df_dd.index, y=df_dd[col], name=col)\n",
    "fig.show()"
   ],
   "metadata": {
    "collapsed": false,
    "ExecuteTime": {
     "end_time": "2024-04-25T17:36:46.968699400Z",
     "start_time": "2024-04-25T17:36:46.870137Z"
    }
   },
   "id": "612ed4980f94323e"
  },
  {
   "cell_type": "code",
   "execution_count": 25,
   "outputs": [
    {
     "ename": "NameError",
     "evalue": "name 'df_hd' is not defined",
     "output_type": "error",
     "traceback": [
      "\u001B[1;31m---------------------------------------------------------------------------\u001B[0m",
      "\u001B[1;31mNameError\u001B[0m                                 Traceback (most recent call last)",
      "Cell \u001B[1;32mIn[25], line 2\u001B[0m\n\u001B[0;32m      1\u001B[0m fig \u001B[38;5;241m=\u001B[39m Fig()\n\u001B[1;32m----> 2\u001B[0m \u001B[38;5;28;01mfor\u001B[39;00m col \u001B[38;5;129;01min\u001B[39;00m \u001B[43mdf_hd\u001B[49m\u001B[38;5;241m.\u001B[39mcolumns:\n\u001B[0;32m      3\u001B[0m     df \u001B[38;5;241m=\u001B[39m df_hd[col]\u001B[38;5;241m.\u001B[39mdropna()\n\u001B[0;32m      4\u001B[0m     fig\u001B[38;5;241m.\u001B[39madd_scattergl(x\u001B[38;5;241m=\u001B[39mdf\u001B[38;5;241m.\u001B[39mindex, y\u001B[38;5;241m=\u001B[39mdf, name\u001B[38;5;241m=\u001B[39mcol)\n",
      "\u001B[1;31mNameError\u001B[0m: name 'df_hd' is not defined"
     ]
    }
   ],
   "source": [
    "fig = Fig()\n",
    "for col in df_hd.columns:\n",
    "    df = df_hd[col].dropna()\n",
    "    fig.add_scattergl(x=df.index, y=df, name=col)\n",
    "fig.show()"
   ],
   "metadata": {
    "collapsed": false,
    "ExecuteTime": {
     "end_time": "2024-04-25T17:36:53.788176200Z",
     "start_time": "2024-04-25T17:36:53.750407Z"
    }
   },
   "id": "74dd4db11c1c9d5b"
  },
  {
   "cell_type": "code",
   "execution_count": 1,
   "outputs": [
    {
     "name": "stdout",
     "output_type": "stream",
     "text": [
      "WellHD\n"
     ]
    }
   ],
   "source": [
    "from _fig import Fig\n",
    "import figs\n",
    "import plotly.graph_objs as go\n",
    "from pathlib import Path\n",
    "import plotly.io as pio\n",
    "fig = Fig()\n",
    "import pandas as pd\n",
    "import geopandas as gpd\n",
    "import shapely as shp\n",
    "shp_path = Path.home() / 'Python/data/explo/AESI_Explorations.shp'\n",
    "wls_df = pd.read_excel(Path.home() / 'Python/data/Tehaleh_wls.xlsx', sheet_name='WellDD').set_index('Date Time')\n",
    "pointshp = gpd.read_file(shp_path)\n",
    "pointshp = pointshp.to_crs(4326)\n",
    "wells_shp = pointshp[pointshp['ExploType']=='MW, EB-1W, TW, OBW']\n",
    "wls_df = pd.read_excel(Path.home() / 'Python/data/Tehaleh_wls.xlsx', sheet_name='WellDD')"
   ],
   "metadata": {
    "collapsed": false,
    "ExecuteTime": {
     "end_time": "2024-04-28T06:48:04.078665700Z",
     "start_time": "2024-04-28T06:47:45.180402400Z"
    }
   },
   "id": "11a92f0511dbe35f"
  },
  {
   "cell_type": "code",
   "execution_count": 7,
   "outputs": [],
   "source": [
    "map_fig = Fig()\n",
    "y = wells_shp.geometry.y\n",
    "x = wells_shp.geometry.x\n",
    "map_center = {\n",
    "    'lat': list(wells_shp.unary_union.centroid.coords)[0][1],\n",
    "    'lon': list(wells_shp.unary_union.centroid.coords)[0][0]\n",
    "}\n",
    "wells_hover = {\n",
    "    'Name': wells_shp['ExploName'].tolist(),\n",
    "    'Proj #': wells_shp['AESI_ProjN'].tolist(),\n",
    "    'Proj Name': wells_shp['AESI_Pro_2'].tolist()\n",
    "}\n",
    "custom_data, hover_template = figs.create_hover(wells_hover)\n",
    "map_fig.add_scattermapbox(lat=y, lon=x, customdata=custom_data, hovertemplate=hover_template, marker_color='black',\n",
    "                          text=wells_shp['ExploName'].tolist())\n",
    "map_fig.update_layout(\n",
    "    mapbox_style=\"open-street-map\",\n",
    "    mapbox_center=map_center,\n",
    "    mapbox_zoom=7\n",
    ")\n",
    "map_fig.show()\n",
    "map_fig.write_json('fig.json')"
   ],
   "metadata": {
    "collapsed": false,
    "ExecuteTime": {
     "end_time": "2024-04-28T06:59:46.914760600Z",
     "start_time": "2024-04-28T06:59:46.447987900Z"
    }
   },
   "id": "f7a1c2f68c0888f4"
  },
  {
   "cell_type": "code",
   "execution_count": 5,
   "outputs": [
    {
     "data": {
      "text/plain": "            id AESI_ProjN AESI_Pro_1                     AESI_Pro_2 Phase  \\\n23        24.0   20130422     130422              Perrinville Creek   KHA   \n54        55.0   20130211     130211                       Delridge   NaN   \n55        56.0   20130211     130211                       Delridge   NaN   \n108      109.0   20130323     130323             Holy Family Parish   NaN   \n111      112.0   20110220     110220                   Barton Basin   KHA   \n...        ...        ...        ...                            ...   ...   \n20742  20743.0   20160066     160066  Well Installation and Testing   EHA   \n20743  20744.0   20160066     160066  Well Installation and Testing  E003   \n20787  20788.0   20120528     120528      New Wilson Pacific School   KEA   \n20803  20804.0   20150005     150005                        Park 77   EEA   \n20804  20805.0   20150005     150005                        Park 77   EEA   \n\n                ExploType       ExploType_  ExploName  ExploDepth  \\\n23     MW, EB-1W, TW, OBW  MONITORING WELL       MW-1        87.0   \n54     MW, EB-1W, TW, OBW  MONITORING WELL       MW-1         NaN   \n55     MW, EB-1W, TW, OBW  MONITORING WELL       MW-2         NaN   \n108    MW, EB-1W, TW, OBW  MONITORING WELL       MW-1         NaN   \n111    MW, EB-1W, TW, OBW  MONITORING WELL      MW-19        65.8   \n...                   ...              ...        ...         ...   \n20742  MW, EB-1W, TW, OBW  MONITORING WELL       EW-2       423.0   \n20743  MW, EB-1W, TW, OBW  MONITORING WELL       EW-3       600.0   \n20787  MW, EB-1W, TW, OBW  MONITORING WELL  EB-9/MW-1        15.8   \n20803  MW, EB-1W, TW, OBW  MONITORING WELL       MW-1        36.0   \n20804  MW, EB-1W, TW, OBW  MONITORING WELL       MW-2        36.5   \n\n                     ExploDate  ...  Radiocarbo Editor    Editor_res  \\\n23     2014/05/02 16:00:00.000  ...         NaN    KLB    Karen Behm   \n54                         NaN  ...         NaN    KLB    Karen Behm   \n55                         NaN  ...         NaN    KLB    Karen Behm   \n108                        NaN  ...         NaN    KLB    Karen Behm   \n111    2011/10/19 16:00:00.000  ...         NaN    KLB    Karen Behm   \n...                        ...  ...         ...    ...           ...   \n20742  2016/12/02 00:00:00.000  ...         Yes    MPT  Michael Trop   \n20743  2017/08/03 00:00:00.000  ...         Yes    MPT  Michael Trop   \n20787  2013/02/01 00:00:00.000  ...         NaN    MPT  Michael Trop   \n20803  2015/09/21 00:00:00.000  ...         Yes    MPT  Michael Trop   \n20804  2015/09/21 00:00:00.000  ...         Yes    MPT  Michael Trop   \n\n                      EditDate               CreationDa     Creator  \\\n23     2018/03/08 16:00:00.000  2023/01/31 16:59:15.279  nfink_AESI   \n54     2018/03/08 16:00:00.000  2023/01/31 16:59:15.279  nfink_AESI   \n55     2018/03/08 16:00:00.000  2023/01/31 16:59:15.279  nfink_AESI   \n108    2018/03/08 16:00:00.000  2023/01/31 16:59:15.279  nfink_AESI   \n111    2019/11/05 16:00:00.000  2023/01/31 16:59:15.279  nfink_AESI   \n...                        ...                      ...         ...   \n20742  2024/02/26 00:00:00.000  2024/02/26 17:36:44.746  mtrop_aesi   \n20743  2024/02/26 00:00:00.000  2024/02/26 17:58:14.244  mtrop_aesi   \n20787  2024/02/26 00:00:00.000  2024/02/26 22:43:58.530  mtrop_aesi   \n20803  2024/02/26 00:00:00.000  2024/02/26 23:43:08.168  mtrop_aesi   \n20804  2024/02/26 00:00:00.000  2024/02/26 23:43:13.536  mtrop_aesi   \n\n                    EditDate_1    Editor_1  wq                     geometry  \n23     2023/01/31 16:59:15.279  nfink_AESI NaN  POINT (-122.34167 47.83094)  \n54     2023/01/31 16:59:15.279  nfink_AESI NaN  POINT (-122.35606 47.53183)  \n55     2023/01/31 16:59:15.279  nfink_AESI NaN  POINT (-122.35652 47.52569)  \n108    2023/01/31 16:59:15.279  nfink_AESI NaN  POINT (-122.35899 47.51653)  \n111    2023/01/31 16:59:15.279  nfink_AESI NaN  POINT (-122.37278 47.53186)  \n...                        ...         ...  ..                          ...  \n20742  2024/02/26 17:50:15.810  mtrop_aesi NaN  POINT (-122.65737 48.96475)  \n20743  2024/02/26 18:00:05.174  mtrop_aesi NaN  POINT (-122.67862 48.97206)  \n20787  2024/02/26 23:02:32.724  mtrop_aesi NaN  POINT (-122.33926 47.69468)  \n20803  2024/02/26 23:47:06.220  mtrop_aesi NaN  POINT (-122.12640 48.17892)  \n20804  2024/02/26 23:47:06.220  mtrop_aesi NaN  POINT (-122.12548 48.17958)  \n\n[1153 rows x 40 columns]",
      "text/html": "<div>\n<style scoped>\n    .dataframe tbody tr th:only-of-type {\n        vertical-align: middle;\n    }\n\n    .dataframe tbody tr th {\n        vertical-align: top;\n    }\n\n    .dataframe thead th {\n        text-align: right;\n    }\n</style>\n<table border=\"1\" class=\"dataframe\">\n  <thead>\n    <tr style=\"text-align: right;\">\n      <th></th>\n      <th>id</th>\n      <th>AESI_ProjN</th>\n      <th>AESI_Pro_1</th>\n      <th>AESI_Pro_2</th>\n      <th>Phase</th>\n      <th>ExploType</th>\n      <th>ExploType_</th>\n      <th>ExploName</th>\n      <th>ExploDepth</th>\n      <th>ExploDate</th>\n      <th>...</th>\n      <th>Radiocarbo</th>\n      <th>Editor</th>\n      <th>Editor_res</th>\n      <th>EditDate</th>\n      <th>CreationDa</th>\n      <th>Creator</th>\n      <th>EditDate_1</th>\n      <th>Editor_1</th>\n      <th>wq</th>\n      <th>geometry</th>\n    </tr>\n  </thead>\n  <tbody>\n    <tr>\n      <th>23</th>\n      <td>24.0</td>\n      <td>20130422</td>\n      <td>130422</td>\n      <td>Perrinville Creek</td>\n      <td>KHA</td>\n      <td>MW, EB-1W, TW, OBW</td>\n      <td>MONITORING WELL</td>\n      <td>MW-1</td>\n      <td>87.0</td>\n      <td>2014/05/02 16:00:00.000</td>\n      <td>...</td>\n      <td>NaN</td>\n      <td>KLB</td>\n      <td>Karen Behm</td>\n      <td>2018/03/08 16:00:00.000</td>\n      <td>2023/01/31 16:59:15.279</td>\n      <td>nfink_AESI</td>\n      <td>2023/01/31 16:59:15.279</td>\n      <td>nfink_AESI</td>\n      <td>NaN</td>\n      <td>POINT (-122.34167 47.83094)</td>\n    </tr>\n    <tr>\n      <th>54</th>\n      <td>55.0</td>\n      <td>20130211</td>\n      <td>130211</td>\n      <td>Delridge</td>\n      <td>NaN</td>\n      <td>MW, EB-1W, TW, OBW</td>\n      <td>MONITORING WELL</td>\n      <td>MW-1</td>\n      <td>NaN</td>\n      <td>NaN</td>\n      <td>...</td>\n      <td>NaN</td>\n      <td>KLB</td>\n      <td>Karen Behm</td>\n      <td>2018/03/08 16:00:00.000</td>\n      <td>2023/01/31 16:59:15.279</td>\n      <td>nfink_AESI</td>\n      <td>2023/01/31 16:59:15.279</td>\n      <td>nfink_AESI</td>\n      <td>NaN</td>\n      <td>POINT (-122.35606 47.53183)</td>\n    </tr>\n    <tr>\n      <th>55</th>\n      <td>56.0</td>\n      <td>20130211</td>\n      <td>130211</td>\n      <td>Delridge</td>\n      <td>NaN</td>\n      <td>MW, EB-1W, TW, OBW</td>\n      <td>MONITORING WELL</td>\n      <td>MW-2</td>\n      <td>NaN</td>\n      <td>NaN</td>\n      <td>...</td>\n      <td>NaN</td>\n      <td>KLB</td>\n      <td>Karen Behm</td>\n      <td>2018/03/08 16:00:00.000</td>\n      <td>2023/01/31 16:59:15.279</td>\n      <td>nfink_AESI</td>\n      <td>2023/01/31 16:59:15.279</td>\n      <td>nfink_AESI</td>\n      <td>NaN</td>\n      <td>POINT (-122.35652 47.52569)</td>\n    </tr>\n    <tr>\n      <th>108</th>\n      <td>109.0</td>\n      <td>20130323</td>\n      <td>130323</td>\n      <td>Holy Family Parish</td>\n      <td>NaN</td>\n      <td>MW, EB-1W, TW, OBW</td>\n      <td>MONITORING WELL</td>\n      <td>MW-1</td>\n      <td>NaN</td>\n      <td>NaN</td>\n      <td>...</td>\n      <td>NaN</td>\n      <td>KLB</td>\n      <td>Karen Behm</td>\n      <td>2018/03/08 16:00:00.000</td>\n      <td>2023/01/31 16:59:15.279</td>\n      <td>nfink_AESI</td>\n      <td>2023/01/31 16:59:15.279</td>\n      <td>nfink_AESI</td>\n      <td>NaN</td>\n      <td>POINT (-122.35899 47.51653)</td>\n    </tr>\n    <tr>\n      <th>111</th>\n      <td>112.0</td>\n      <td>20110220</td>\n      <td>110220</td>\n      <td>Barton Basin</td>\n      <td>KHA</td>\n      <td>MW, EB-1W, TW, OBW</td>\n      <td>MONITORING WELL</td>\n      <td>MW-19</td>\n      <td>65.8</td>\n      <td>2011/10/19 16:00:00.000</td>\n      <td>...</td>\n      <td>NaN</td>\n      <td>KLB</td>\n      <td>Karen Behm</td>\n      <td>2019/11/05 16:00:00.000</td>\n      <td>2023/01/31 16:59:15.279</td>\n      <td>nfink_AESI</td>\n      <td>2023/01/31 16:59:15.279</td>\n      <td>nfink_AESI</td>\n      <td>NaN</td>\n      <td>POINT (-122.37278 47.53186)</td>\n    </tr>\n    <tr>\n      <th>...</th>\n      <td>...</td>\n      <td>...</td>\n      <td>...</td>\n      <td>...</td>\n      <td>...</td>\n      <td>...</td>\n      <td>...</td>\n      <td>...</td>\n      <td>...</td>\n      <td>...</td>\n      <td>...</td>\n      <td>...</td>\n      <td>...</td>\n      <td>...</td>\n      <td>...</td>\n      <td>...</td>\n      <td>...</td>\n      <td>...</td>\n      <td>...</td>\n      <td>...</td>\n      <td>...</td>\n    </tr>\n    <tr>\n      <th>20742</th>\n      <td>20743.0</td>\n      <td>20160066</td>\n      <td>160066</td>\n      <td>Well Installation and Testing</td>\n      <td>EHA</td>\n      <td>MW, EB-1W, TW, OBW</td>\n      <td>MONITORING WELL</td>\n      <td>EW-2</td>\n      <td>423.0</td>\n      <td>2016/12/02 00:00:00.000</td>\n      <td>...</td>\n      <td>Yes</td>\n      <td>MPT</td>\n      <td>Michael Trop</td>\n      <td>2024/02/26 00:00:00.000</td>\n      <td>2024/02/26 17:36:44.746</td>\n      <td>mtrop_aesi</td>\n      <td>2024/02/26 17:50:15.810</td>\n      <td>mtrop_aesi</td>\n      <td>NaN</td>\n      <td>POINT (-122.65737 48.96475)</td>\n    </tr>\n    <tr>\n      <th>20743</th>\n      <td>20744.0</td>\n      <td>20160066</td>\n      <td>160066</td>\n      <td>Well Installation and Testing</td>\n      <td>E003</td>\n      <td>MW, EB-1W, TW, OBW</td>\n      <td>MONITORING WELL</td>\n      <td>EW-3</td>\n      <td>600.0</td>\n      <td>2017/08/03 00:00:00.000</td>\n      <td>...</td>\n      <td>Yes</td>\n      <td>MPT</td>\n      <td>Michael Trop</td>\n      <td>2024/02/26 00:00:00.000</td>\n      <td>2024/02/26 17:58:14.244</td>\n      <td>mtrop_aesi</td>\n      <td>2024/02/26 18:00:05.174</td>\n      <td>mtrop_aesi</td>\n      <td>NaN</td>\n      <td>POINT (-122.67862 48.97206)</td>\n    </tr>\n    <tr>\n      <th>20787</th>\n      <td>20788.0</td>\n      <td>20120528</td>\n      <td>120528</td>\n      <td>New Wilson Pacific School</td>\n      <td>KEA</td>\n      <td>MW, EB-1W, TW, OBW</td>\n      <td>MONITORING WELL</td>\n      <td>EB-9/MW-1</td>\n      <td>15.8</td>\n      <td>2013/02/01 00:00:00.000</td>\n      <td>...</td>\n      <td>NaN</td>\n      <td>MPT</td>\n      <td>Michael Trop</td>\n      <td>2024/02/26 00:00:00.000</td>\n      <td>2024/02/26 22:43:58.530</td>\n      <td>mtrop_aesi</td>\n      <td>2024/02/26 23:02:32.724</td>\n      <td>mtrop_aesi</td>\n      <td>NaN</td>\n      <td>POINT (-122.33926 47.69468)</td>\n    </tr>\n    <tr>\n      <th>20803</th>\n      <td>20804.0</td>\n      <td>20150005</td>\n      <td>150005</td>\n      <td>Park 77</td>\n      <td>EEA</td>\n      <td>MW, EB-1W, TW, OBW</td>\n      <td>MONITORING WELL</td>\n      <td>MW-1</td>\n      <td>36.0</td>\n      <td>2015/09/21 00:00:00.000</td>\n      <td>...</td>\n      <td>Yes</td>\n      <td>MPT</td>\n      <td>Michael Trop</td>\n      <td>2024/02/26 00:00:00.000</td>\n      <td>2024/02/26 23:43:08.168</td>\n      <td>mtrop_aesi</td>\n      <td>2024/02/26 23:47:06.220</td>\n      <td>mtrop_aesi</td>\n      <td>NaN</td>\n      <td>POINT (-122.12640 48.17892)</td>\n    </tr>\n    <tr>\n      <th>20804</th>\n      <td>20805.0</td>\n      <td>20150005</td>\n      <td>150005</td>\n      <td>Park 77</td>\n      <td>EEA</td>\n      <td>MW, EB-1W, TW, OBW</td>\n      <td>MONITORING WELL</td>\n      <td>MW-2</td>\n      <td>36.5</td>\n      <td>2015/09/21 00:00:00.000</td>\n      <td>...</td>\n      <td>Yes</td>\n      <td>MPT</td>\n      <td>Michael Trop</td>\n      <td>2024/02/26 00:00:00.000</td>\n      <td>2024/02/26 23:43:13.536</td>\n      <td>mtrop_aesi</td>\n      <td>2024/02/26 23:47:06.220</td>\n      <td>mtrop_aesi</td>\n      <td>NaN</td>\n      <td>POINT (-122.12548 48.17958)</td>\n    </tr>\n  </tbody>\n</table>\n<p>1153 rows × 40 columns</p>\n</div>"
     },
     "execution_count": 5,
     "metadata": {},
     "output_type": "execute_result"
    }
   ],
   "source": [
    "wells_shp "
   ],
   "metadata": {
    "collapsed": false,
    "ExecuteTime": {
     "end_time": "2024-04-28T06:10:00.646220300Z",
     "start_time": "2024-04-28T06:10:00.552856700Z"
    }
   },
   "id": "a075e3152c653fba"
  },
  {
   "cell_type": "code",
   "execution_count": 3,
   "outputs": [],
   "source": [
    "f = Fig()\n",
    "f.show()"
   ],
   "metadata": {
    "collapsed": false,
    "ExecuteTime": {
     "end_time": "2024-04-28T06:45:46.369303800Z",
     "start_time": "2024-04-28T06:45:45.991747900Z"
    }
   },
   "id": "89207d2a0f3f99b7"
  },
  {
   "cell_type": "code",
   "execution_count": 5,
   "outputs": [
    {
     "data": {
      "text/plain": "'rgb(31, 119, 180)'"
     },
     "execution_count": 5,
     "metadata": {},
     "output_type": "execute_result"
    }
   ],
   "source": [
    "import plotly\n",
    "import itertools\n",
    "cycle = itertools.cycle(plotly.colors.DEFAULT_PLOTLY_COLORS)\n",
    "next(cycle)"
   ],
   "metadata": {
    "collapsed": false,
    "ExecuteTime": {
     "end_time": "2024-04-29T21:39:27.054772200Z",
     "start_time": "2024-04-29T21:39:27.046932500Z"
    }
   },
   "id": "7c2a19f349475128"
  },
  {
   "cell_type": "code",
   "execution_count": 25,
   "outputs": [
    {
     "data": {
      "text/plain": "'rgb(31, 119, 180)'"
     },
     "execution_count": 25,
     "metadata": {},
     "output_type": "execute_result"
    }
   ],
   "source": [
    "next(cycle)"
   ],
   "metadata": {
    "collapsed": false,
    "ExecuteTime": {
     "end_time": "2024-04-29T21:39:44.251934300Z",
     "start_time": "2024-04-29T21:39:44.226569Z"
    }
   },
   "id": "118771b63eb7c07c"
  },
  {
   "cell_type": "code",
   "execution_count": 3,
   "outputs": [
    {
     "data": {
      "text/plain": "['__new__',\n '__getattribute__',\n '__get__',\n '__set__',\n '__delete__',\n '__init__',\n 'getter',\n 'setter',\n 'deleter',\n '__set_name__',\n 'fget',\n 'fset',\n 'fdel',\n '__doc__',\n '__isabstractmethod__',\n '__repr__',\n '__hash__',\n '__str__',\n '__setattr__',\n '__delattr__',\n '__lt__',\n '__le__',\n '__eq__',\n '__ne__',\n '__gt__',\n '__ge__',\n '__reduce_ex__',\n '__reduce__',\n '__getstate__',\n '__subclasshook__',\n '__init_subclass__',\n '__format__',\n '__sizeof__',\n '__dir__',\n '__class__']"
     },
     "execution_count": 3,
     "metadata": {},
     "output_type": "execute_result"
    }
   ],
   "source": [
    "import figs\n",
    "figs.Fig"
   ],
   "metadata": {
    "collapsed": false,
    "ExecuteTime": {
     "end_time": "2024-05-01T06:06:16.637438700Z",
     "start_time": "2024-05-01T06:06:16.611353400Z"
    }
   },
   "id": "aa042f32c525858d"
  },
  {
   "cell_type": "code",
   "execution_count": null,
   "outputs": [],
   "source": [],
   "metadata": {
    "collapsed": false
   },
   "id": "b33271da6b8e33a"
  }
 ],
 "metadata": {
  "kernelspec": {
   "display_name": "Python 3",
   "language": "python",
   "name": "python3"
  },
  "language_info": {
   "codemirror_mode": {
    "name": "ipython",
    "version": 2
   },
   "file_extension": ".py",
   "mimetype": "text/x-python",
   "name": "python",
   "nbconvert_exporter": "python",
   "pygments_lexer": "ipython2",
   "version": "2.7.6"
  }
 },
 "nbformat": 4,
 "nbformat_minor": 5
}
