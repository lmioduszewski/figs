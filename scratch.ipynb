{
 "cells": [
  {
   "cell_type": "code",
   "execution_count": 1,
   "id": "initial_id",
   "metadata": {
    "collapsed": true,
    "ExecuteTime": {
     "end_time": "2024-03-17T18:12:08.323381Z",
     "start_time": "2024-03-17T18:12:07.599200600Z"
    }
   },
   "outputs": [],
   "source": [
    "import bokeh as bk\n",
    "import bokeh.models as models\n",
    "import bokeh.plotting\n",
    "from bokeh.plotting import figure, show\n",
    "import pandas as pd\n",
    "import polars as pl"
   ]
  },
  {
   "cell_type": "code",
   "execution_count": 2,
   "outputs": [],
   "source": [
    "df = pd.DataFrame()\n",
    "df['x'] = [1,2,3,4,5]\n",
    "df['y'] = [5,4,3,2,1]"
   ],
   "metadata": {
    "collapsed": false,
    "ExecuteTime": {
     "end_time": "2024-03-17T18:12:10.178332700Z",
     "start_time": "2024-03-17T18:12:10.155590600Z"
    }
   },
   "id": "defe0353d140c6"
  },
  {
   "cell_type": "code",
   "execution_count": 3,
   "outputs": [],
   "source": [
    "source = models.sources.ColumnDataSource(df)"
   ],
   "metadata": {
    "collapsed": false,
    "ExecuteTime": {
     "end_time": "2024-03-17T18:12:10.784989800Z",
     "start_time": "2024-03-17T18:12:10.763068300Z"
    }
   },
   "id": "a9c0c3eaa584e4d6"
  },
  {
   "cell_type": "code",
   "execution_count": 4,
   "outputs": [
    {
     "data": {
      "text/plain": "GlyphRenderer(id='p1038', ...)",
      "text/html": "<div style=\"display: table;\"><div style=\"display: table-row;\"><div style=\"display: table-cell;\"><b title=\"bokeh.models.renderers.glyph_renderer.GlyphRenderer\">GlyphRenderer</b>(</div><div style=\"display: table-cell;\">id&nbsp;=&nbsp;'p1038', <span id=\"p1042\" style=\"cursor: pointer;\">&hellip;)</span></div></div><div class=\"p1041\" style=\"display: none;\"><div style=\"display: table-cell;\"></div><div style=\"display: table-cell;\">coordinates&nbsp;=&nbsp;None,</div></div><div class=\"p1041\" style=\"display: none;\"><div style=\"display: table-cell;\"></div><div style=\"display: table-cell;\">data_source&nbsp;=&nbsp;ColumnDataSource(id='p1001', ...),</div></div><div class=\"p1041\" style=\"display: none;\"><div style=\"display: table-cell;\"></div><div style=\"display: table-cell;\">glyph&nbsp;=&nbsp;Scatter(id='p1035', ...),</div></div><div class=\"p1041\" style=\"display: none;\"><div style=\"display: table-cell;\"></div><div style=\"display: table-cell;\">group&nbsp;=&nbsp;None,</div></div><div class=\"p1041\" style=\"display: none;\"><div style=\"display: table-cell;\"></div><div style=\"display: table-cell;\">hover_glyph&nbsp;=&nbsp;None,</div></div><div class=\"p1041\" style=\"display: none;\"><div style=\"display: table-cell;\"></div><div style=\"display: table-cell;\">js_event_callbacks&nbsp;=&nbsp;{},</div></div><div class=\"p1041\" style=\"display: none;\"><div style=\"display: table-cell;\"></div><div style=\"display: table-cell;\">js_property_callbacks&nbsp;=&nbsp;{},</div></div><div class=\"p1041\" style=\"display: none;\"><div style=\"display: table-cell;\"></div><div style=\"display: table-cell;\">level&nbsp;=&nbsp;'glyph',</div></div><div class=\"p1041\" style=\"display: none;\"><div style=\"display: table-cell;\"></div><div style=\"display: table-cell;\">muted&nbsp;=&nbsp;False,</div></div><div class=\"p1041\" style=\"display: none;\"><div style=\"display: table-cell;\"></div><div style=\"display: table-cell;\">muted_glyph&nbsp;=&nbsp;Scatter(id='p1037', ...),</div></div><div class=\"p1041\" style=\"display: none;\"><div style=\"display: table-cell;\"></div><div style=\"display: table-cell;\">name&nbsp;=&nbsp;None,</div></div><div class=\"p1041\" style=\"display: none;\"><div style=\"display: table-cell;\"></div><div style=\"display: table-cell;\">nonselection_glyph&nbsp;=&nbsp;Scatter(id='p1036', ...),</div></div><div class=\"p1041\" style=\"display: none;\"><div style=\"display: table-cell;\"></div><div style=\"display: table-cell;\">propagate_hover&nbsp;=&nbsp;False,</div></div><div class=\"p1041\" style=\"display: none;\"><div style=\"display: table-cell;\"></div><div style=\"display: table-cell;\">selection_glyph&nbsp;=&nbsp;'auto',</div></div><div class=\"p1041\" style=\"display: none;\"><div style=\"display: table-cell;\"></div><div style=\"display: table-cell;\">subscribed_events&nbsp;=&nbsp;PropertyValueSet(),</div></div><div class=\"p1041\" style=\"display: none;\"><div style=\"display: table-cell;\"></div><div style=\"display: table-cell;\">syncable&nbsp;=&nbsp;True,</div></div><div class=\"p1041\" style=\"display: none;\"><div style=\"display: table-cell;\"></div><div style=\"display: table-cell;\">tags&nbsp;=&nbsp;[],</div></div><div class=\"p1041\" style=\"display: none;\"><div style=\"display: table-cell;\"></div><div style=\"display: table-cell;\">view&nbsp;=&nbsp;CDSView(id='p1039', ...),</div></div><div class=\"p1041\" style=\"display: none;\"><div style=\"display: table-cell;\"></div><div style=\"display: table-cell;\">visible&nbsp;=&nbsp;True,</div></div><div class=\"p1041\" style=\"display: none;\"><div style=\"display: table-cell;\"></div><div style=\"display: table-cell;\">x_range_name&nbsp;=&nbsp;'default',</div></div><div class=\"p1041\" style=\"display: none;\"><div style=\"display: table-cell;\"></div><div style=\"display: table-cell;\">y_range_name&nbsp;=&nbsp;'default')</div></div></div>\n<script>\n(function() {\n  let expanded = false;\n  const ellipsis = document.getElementById(\"p1042\");\n  ellipsis.addEventListener(\"click\", function() {\n    const rows = document.getElementsByClassName(\"p1041\");\n    for (let i = 0; i < rows.length; i++) {\n      const el = rows[i];\n      el.style.display = expanded ? \"none\" : \"table-row\";\n    }\n    ellipsis.innerHTML = expanded ? \"&hellip;)\" : \"&lsaquo;&lsaquo;&lsaquo;\";\n    expanded = !expanded;\n  });\n})();\n</script>\n"
     },
     "execution_count": 4,
     "metadata": {},
     "output_type": "execute_result"
    }
   ],
   "source": [
    "fig = figure()\n",
    "fig.scatter(source=source)"
   ],
   "metadata": {
    "collapsed": false,
    "ExecuteTime": {
     "end_time": "2024-03-17T18:12:11.123777300Z",
     "start_time": "2024-03-17T18:12:11.090709700Z"
    }
   },
   "id": "45f580befbd27c01"
  },
  {
   "cell_type": "code",
   "execution_count": 29,
   "outputs": [],
   "source": [
    "show(fig)"
   ],
   "metadata": {
    "collapsed": false,
    "ExecuteTime": {
     "end_time": "2024-03-17T18:11:34.320226100Z",
     "start_time": "2024-03-17T18:11:34.159021800Z"
    }
   },
   "id": "cb2e312ab5f89b6e"
  },
  {
   "cell_type": "code",
   "execution_count": 7,
   "outputs": [
    {
     "data": {
      "text/plain": "shape: (5, 2)\n┌─────┬─────┐\n│ x   ┆ y   │\n│ --- ┆ --- │\n│ i64 ┆ i64 │\n╞═════╪═════╡\n│ 1   ┆ 5   │\n│ 2   ┆ 4   │\n│ 3   ┆ 3   │\n│ 4   ┆ 2   │\n│ 5   ┆ 1   │\n└─────┴─────┘",
      "text/html": "<div><style>\n.dataframe > thead > tr,\n.dataframe > tbody > tr {\n  text-align: right;\n  white-space: pre-wrap;\n}\n</style>\n<small>shape: (5, 2)</small><table border=\"1\" class=\"dataframe\"><thead><tr><th>x</th><th>y</th></tr><tr><td>i64</td><td>i64</td></tr></thead><tbody><tr><td>1</td><td>5</td></tr><tr><td>2</td><td>4</td></tr><tr><td>3</td><td>3</td></tr><tr><td>4</td><td>2</td></tr><tr><td>5</td><td>1</td></tr></tbody></table></div>"
     },
     "execution_count": 7,
     "metadata": {},
     "output_type": "execute_result"
    }
   ],
   "source": [
    "pl.DataFrame(df)"
   ],
   "metadata": {
    "collapsed": false,
    "ExecuteTime": {
     "end_time": "2024-03-17T18:13:26.241817400Z",
     "start_time": "2024-03-17T18:13:26.204244900Z"
    }
   },
   "id": "20608f14665f0bb7"
  },
  {
   "cell_type": "code",
   "execution_count": 44,
   "outputs": [
    {
     "name": "stderr",
     "output_type": "stream",
     "text": [
      "BokehDeprecationWarning: 'circle() method with size value' was deprecated in Bokeh 3.4.0 and will be removed, use 'scatter(size=...) instead' instead.\n"
     ]
    }
   ],
   "source": [
    "from bokeh.plotting import figure, show\n",
    "from bokeh.models import ColumnDataSource, Legend\n",
    "\n",
    "# Sample data\n",
    "source = ColumnDataSource(data=dict(\n",
    "    x=[1, 2, 3, 4, 5],\n",
    "    y=[6, 7, 2, 4, 5],\n",
    "    x2=[1, 2, 3, 4, 5],\n",
    "    y2=[5, 6, 3, 2, 4]\n",
    "))\n",
    "\n",
    "# Create a new plot\n",
    "p = figure()\n",
    "\n",
    "# Add glyphs with a legend label\n",
    "line = p.line('x', 'y', source=source, legend_label=\"Line\", line_width=2)\n",
    "circle = p.circle('x2', 'y2', source=source, size=20, color=\"navy\", legend_label=\"Circle\")\n",
    "\n",
    "# Manually create a legend (optional, if more control is needed)\n",
    "legend = Legend(items=[\n",
    "    (\"Line\", [line]),\n",
    "    (\"Circle\", [circle])\n",
    "], location=\"center\")\n",
    "\n",
    "# Clicking the legend's items will hide/mute the glyph\n",
    "p.legend.click_policy = \"hide\"  # Can also be \"mute\"\n",
    "\n",
    "# Add the legend manually if created (optional)\n",
    "# p.add_layout(legend)\n",
    "\n",
    "# Show the result\n",
    "show(p)\n"
   ],
   "metadata": {
    "collapsed": false,
    "ExecuteTime": {
     "end_time": "2024-03-25T06:32:46.020842Z",
     "start_time": "2024-03-25T06:32:45.820565300Z"
    }
   },
   "id": "59dc7a053527eb69"
  },
  {
   "cell_type": "code",
   "execution_count": 11,
   "outputs": [
    {
     "ename": "AttributeError",
     "evalue": "property 'root' of 'BokehScalableFigure' object has no setter",
     "output_type": "error",
     "traceback": [
      "\u001B[1;31m---------------------------------------------------------------------------\u001B[0m",
      "\u001B[1;31mAttributeError\u001B[0m                            Traceback (most recent call last)",
      "Cell \u001B[1;32mIn[11], line 73\u001B[0m\n\u001B[0;32m     71\u001B[0m \u001B[38;5;66;03m# Usage\u001B[39;00m\n\u001B[0;32m     72\u001B[0m \u001B[38;5;28;01mif\u001B[39;00m \u001B[38;5;18m__name__\u001B[39m \u001B[38;5;241m==\u001B[39m \u001B[38;5;124m\"\u001B[39m\u001B[38;5;124m__main__\u001B[39m\u001B[38;5;124m\"\u001B[39m:\n\u001B[1;32m---> 73\u001B[0m     bokeh_fig \u001B[38;5;241m=\u001B[39m \u001B[43mBokehScalableFigure\u001B[49m\u001B[43m(\u001B[49m\u001B[43m)\u001B[49m\n\u001B[0;32m     74\u001B[0m     bokeh_fig\u001B[38;5;241m.\u001B[39madd_line(x\u001B[38;5;241m=\u001B[39m[\u001B[38;5;241m1\u001B[39m, \u001B[38;5;241m2\u001B[39m, \u001B[38;5;241m3\u001B[39m, \u001B[38;5;241m4\u001B[39m], y\u001B[38;5;241m=\u001B[39m[\u001B[38;5;241m4\u001B[39m, \u001B[38;5;241m3\u001B[39m, \u001B[38;5;241m5\u001B[39m, \u001B[38;5;241m2\u001B[39m], line_width\u001B[38;5;241m=\u001B[39m\u001B[38;5;241m2\u001B[39m, color\u001B[38;5;241m=\u001B[39m\u001B[38;5;124m\"\u001B[39m\u001B[38;5;124mblue\u001B[39m\u001B[38;5;124m\"\u001B[39m)\n\u001B[0;32m     75\u001B[0m     bokeh_fig\u001B[38;5;241m.\u001B[39mwrite_svg()  \u001B[38;5;66;03m# Save the SVG\u001B[39;00m\n",
      "Cell \u001B[1;32mIn[11], line 28\u001B[0m, in \u001B[0;36mBokehScalableFigure.__init__\u001B[1;34m(self, plot_width, plot_height, x_scale, y_scale)\u001B[0m\n\u001B[0;32m     26\u001B[0m \u001B[38;5;28mself\u001B[39m\u001B[38;5;241m.\u001B[39msvg_path \u001B[38;5;241m=\u001B[39m \u001B[38;5;124m'\u001B[39m\u001B[38;5;124mtemp_plot.svg\u001B[39m\u001B[38;5;124m'\u001B[39m\n\u001B[0;32m     27\u001B[0m \u001B[38;5;28mself\u001B[39m\u001B[38;5;241m.\u001B[39mpdf_path \u001B[38;5;241m=\u001B[39m \u001B[38;5;124m'\u001B[39m\u001B[38;5;124mtemp_plot.pdf\u001B[39m\u001B[38;5;124m'\u001B[39m\n\u001B[1;32m---> 28\u001B[0m \u001B[38;5;28;43mself\u001B[39;49m\u001B[38;5;241;43m.\u001B[39;49m\u001B[43mroot\u001B[49m \u001B[38;5;241m=\u001B[39m \u001B[38;5;28;01mNone\u001B[39;00m\n",
      "\u001B[1;31mAttributeError\u001B[0m: property 'root' of 'BokehScalableFigure' object has no setter"
     ]
    }
   ],
   "source": [
    "import os\n",
    "from bokeh.plotting import figure, show\n",
    "from bokeh.io.export import get_svg, export_svg\n",
    "from svglib.svglib import svg2rlg\n",
    "from reportlab.graphics import renderPDF\n",
    "from reportlab.graphics.shapes import Drawing\n",
    "from figs._fig import Fig\n",
    "import plotly.io as pio\n",
    "import xml.etree.ElementTree as ETree\n",
    "import svgpathtools as svgtools\n",
    "\n",
    "class BokehScalableFigure:\n",
    "    def __init__(\n",
    "            self,\n",
    "            figure: figure,\n",
    "            plot_width=17, \n",
    "            plot_height=11, \n",
    "            x_scale=0.25, \n",
    "            y_scale=0.25, \n",
    "            x_start=None,\n",
    "            y_start=None\n",
    "    ):\n",
    "        # Basic plot setup\n",
    "        self.plot_width = plot_width * 72\n",
    "        self.plot_height = plot_height * 72\n",
    "        self.x_scale = x_scale  # real-world units per inch\n",
    "        self.y_scale = y_scale  # real-world units per inch\n",
    "        self.x_start = x_start\n",
    "        self.y_start = y_start\n",
    "\n",
    "        self.figure = figure(\n",
    "            width=self.plot_width, height=self.plot_height,\n",
    "            output_backend=\"svg\"\n",
    "        )\n",
    "\n",
    "        # Default file paths\n",
    "        self.svg_path = 'temp_plot.svg'\n",
    "        self.pdf_path = 'temp_plot.pdf'\n",
    "\n",
    "    def add_line(self, x, y, **kwargs):\n",
    "        self.figure.line(x, y, **kwargs)\n",
    "\n",
    "    def write_svg(self, filename=None):\n",
    "        filename = filename or self.svg_path\n",
    "        # Save the current figure\n",
    "        export_svg(self.figure, filename=filename)\n",
    "    \n",
    "    @property   \n",
    "    def root(self):\n",
    "        root = ETree.parse(self.svg_path).getroot()\n",
    "        self.root = root\n",
    "        return self.root\n",
    "        \n",
    "    def grid_dimensions(self):\n",
    "        root = self.root\n",
    "        elements = [element for element in root.iter()]\n",
    "        #  get the bounding box of the grid of the svg plot exported from Bokeh\n",
    "        bbox = svgtools.parse_path(elements[5].attrib['d']).bbox()\n",
    "        x_length_grid = bbox[1] - bbox[0]\n",
    "        y_height_grid = bbox[3] - bbox[2]\n",
    "        \n",
    "        \n",
    "\n",
    "    def write_scaled_pdf(self, svg_path=None, pdf_path=None):\n",
    "        svg_path = svg_path or self.svg_path\n",
    "        pdf_path = pdf_path or self.pdf_path\n",
    "        \n",
    "        # Convert SVG to PDF while maintaining scale\n",
    "        drawing = svg2rlg(svg_path)\n",
    "        \n",
    "        # Adjust the scale based on real-world measurement per inch (dpi assumed to be 72 for SVG)\n",
    "        scale_x = 1 / self.x_scale\n",
    "        scale_y = 1 / self.y_scale\n",
    "        drawing.width = drawing.width * scale_x\n",
    "        drawing.height = drawing.height * scale_y\n",
    "        drawing.scale(scale_x, scale_y)\n",
    "\n",
    "        # Create a ReportLab drawing and render the SVG drawing into it\n",
    "        rendered_drawing = Drawing(drawing.width, drawing.height)\n",
    "        rendered_drawing.add(drawing)\n",
    "\n",
    "        # Write to a PDF\n",
    "        renderPDF.drawToFile(rendered_drawing, pdf_path)\n",
    "        print(f'PDF exported to {pdf_path}')\n",
    "    \n",
    "\n",
    "# Usage\n",
    "if __name__ == \"__main__\":\n",
    "    bokeh_fig = BokehScalableFigure()\n",
    "    bokeh_fig.add_line(x=[1, 2, 3, 4], y=[4, 3, 5, 2], line_width=2, color=\"blue\")\n",
    "    bokeh_fig.write_svg()  # Save the SVG\n",
    "    bokeh_fig.write_scaled_pdf()  # Convert and scale to PDF\n"
   ],
   "metadata": {
    "collapsed": false,
    "ExecuteTime": {
     "end_time": "2024-03-26T06:44:53.266566300Z",
     "start_time": "2024-03-26T06:44:51.923619700Z"
    }
   },
   "id": "2c0addd801c26d1e"
  },
  {
   "cell_type": "code",
   "execution_count": 66,
   "outputs": [],
   "source": [
    "root = ETree.parse('temp_plot.svg').getroot()\n",
    "elements = [element for element in root.iter()]\n",
    "#  get the bounding box of the grid of the svg plot exported from Bokeh\n",
    "bbox = svgtools.parse_path(elements[5].attrib['d']).bbox()\n",
    "x_min, y_min = bbox[0], bbox[2]\n",
    "x_length_grid_in_inches = (bbox[1] - bbox[0]) / 72\n",
    "y_height_grid_in_inches = (bbox[3] - bbox[2]) / 72"
   ],
   "metadata": {
    "collapsed": false,
    "ExecuteTime": {
     "end_time": "2024-03-26T07:13:27.984211200Z",
     "start_time": "2024-03-26T07:13:27.958946300Z"
    }
   },
   "id": "b0603cc4a5f6d365"
  },
  {
   "cell_type": "code",
   "execution_count": 67,
   "outputs": [
    {
     "data": {
      "text/plain": "16.125"
     },
     "execution_count": 67,
     "metadata": {},
     "output_type": "execute_result"
    }
   ],
   "source": [
    "x_length_grid_in_inches"
   ],
   "metadata": {
    "collapsed": false,
    "ExecuteTime": {
     "end_time": "2024-03-26T07:13:28.261138400Z",
     "start_time": "2024-03-26T07:13:28.237159300Z"
    }
   },
   "id": "9bbd252f5cca06b3"
  },
  {
   "cell_type": "code",
   "execution_count": 69,
   "outputs": [
    {
     "data": {
      "text/plain": "5.5"
     },
     "execution_count": 69,
     "metadata": {},
     "output_type": "execute_result"
    }
   ],
   "source": [],
   "metadata": {
    "collapsed": false,
    "ExecuteTime": {
     "end_time": "2024-03-26T07:13:34.746921100Z",
     "start_time": "2024-03-26T07:13:34.738568300Z"
    }
   },
   "id": "981efa6ce27e2b49"
  },
  {
   "cell_type": "code",
   "execution_count": null,
   "outputs": [],
   "source": [],
   "metadata": {
    "collapsed": false
   },
   "id": "7870c98c0cc41cf2"
  }
 ],
 "metadata": {
  "kernelspec": {
   "display_name": "Python 3",
   "language": "python",
   "name": "python3"
  },
  "language_info": {
   "codemirror_mode": {
    "name": "ipython",
    "version": 2
   },
   "file_extension": ".py",
   "mimetype": "text/x-python",
   "name": "python",
   "nbconvert_exporter": "python",
   "pygments_lexer": "ipython2",
   "version": "2.7.6"
  }
 },
 "nbformat": 4,
 "nbformat_minor": 5
}
