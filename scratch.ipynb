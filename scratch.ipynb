{
 "cells": [
  {
   "cell_type": "code",
   "execution_count": 1,
   "id": "initial_id",
   "metadata": {
    "collapsed": true,
    "ExecuteTime": {
     "end_time": "2024-03-17T18:12:08.323381Z",
     "start_time": "2024-03-17T18:12:07.599200600Z"
    }
   },
   "outputs": [],
   "source": [
    "import bokeh as bk\n",
    "import bokeh.models as models\n",
    "import bokeh.plotting\n",
    "from bokeh.plotting import figure, show\n",
    "import pandas as pd\n",
    "import polars as pl"
   ]
  },
  {
   "cell_type": "code",
   "execution_count": 2,
   "outputs": [],
   "source": [
    "df = pd.DataFrame()\n",
    "df['x'] = [1,2,3,4,5]\n",
    "df['y'] = [5,4,3,2,1]"
   ],
   "metadata": {
    "collapsed": false,
    "ExecuteTime": {
     "end_time": "2024-03-17T18:12:10.178332700Z",
     "start_time": "2024-03-17T18:12:10.155590600Z"
    }
   },
   "id": "defe0353d140c6"
  },
  {
   "cell_type": "code",
   "execution_count": 3,
   "outputs": [],
   "source": [
    "source = models.sources.ColumnDataSource(df)"
   ],
   "metadata": {
    "collapsed": false,
    "ExecuteTime": {
     "end_time": "2024-03-17T18:12:10.784989800Z",
     "start_time": "2024-03-17T18:12:10.763068300Z"
    }
   },
   "id": "a9c0c3eaa584e4d6"
  },
  {
   "cell_type": "code",
   "execution_count": 4,
   "outputs": [
    {
     "data": {
      "text/plain": "GlyphRenderer(id='p1038', ...)",
      "text/html": "<div style=\"display: table;\"><div style=\"display: table-row;\"><div style=\"display: table-cell;\"><b title=\"bokeh.models.renderers.glyph_renderer.GlyphRenderer\">GlyphRenderer</b>(</div><div style=\"display: table-cell;\">id&nbsp;=&nbsp;'p1038', <span id=\"p1042\" style=\"cursor: pointer;\">&hellip;)</span></div></div><div class=\"p1041\" style=\"display: none;\"><div style=\"display: table-cell;\"></div><div style=\"display: table-cell;\">coordinates&nbsp;=&nbsp;None,</div></div><div class=\"p1041\" style=\"display: none;\"><div style=\"display: table-cell;\"></div><div style=\"display: table-cell;\">data_source&nbsp;=&nbsp;ColumnDataSource(id='p1001', ...),</div></div><div class=\"p1041\" style=\"display: none;\"><div style=\"display: table-cell;\"></div><div style=\"display: table-cell;\">glyph&nbsp;=&nbsp;Scatter(id='p1035', ...),</div></div><div class=\"p1041\" style=\"display: none;\"><div style=\"display: table-cell;\"></div><div style=\"display: table-cell;\">group&nbsp;=&nbsp;None,</div></div><div class=\"p1041\" style=\"display: none;\"><div style=\"display: table-cell;\"></div><div style=\"display: table-cell;\">hover_glyph&nbsp;=&nbsp;None,</div></div><div class=\"p1041\" style=\"display: none;\"><div style=\"display: table-cell;\"></div><div style=\"display: table-cell;\">js_event_callbacks&nbsp;=&nbsp;{},</div></div><div class=\"p1041\" style=\"display: none;\"><div style=\"display: table-cell;\"></div><div style=\"display: table-cell;\">js_property_callbacks&nbsp;=&nbsp;{},</div></div><div class=\"p1041\" style=\"display: none;\"><div style=\"display: table-cell;\"></div><div style=\"display: table-cell;\">level&nbsp;=&nbsp;'glyph',</div></div><div class=\"p1041\" style=\"display: none;\"><div style=\"display: table-cell;\"></div><div style=\"display: table-cell;\">muted&nbsp;=&nbsp;False,</div></div><div class=\"p1041\" style=\"display: none;\"><div style=\"display: table-cell;\"></div><div style=\"display: table-cell;\">muted_glyph&nbsp;=&nbsp;Scatter(id='p1037', ...),</div></div><div class=\"p1041\" style=\"display: none;\"><div style=\"display: table-cell;\"></div><div style=\"display: table-cell;\">name&nbsp;=&nbsp;None,</div></div><div class=\"p1041\" style=\"display: none;\"><div style=\"display: table-cell;\"></div><div style=\"display: table-cell;\">nonselection_glyph&nbsp;=&nbsp;Scatter(id='p1036', ...),</div></div><div class=\"p1041\" style=\"display: none;\"><div style=\"display: table-cell;\"></div><div style=\"display: table-cell;\">propagate_hover&nbsp;=&nbsp;False,</div></div><div class=\"p1041\" style=\"display: none;\"><div style=\"display: table-cell;\"></div><div style=\"display: table-cell;\">selection_glyph&nbsp;=&nbsp;'auto',</div></div><div class=\"p1041\" style=\"display: none;\"><div style=\"display: table-cell;\"></div><div style=\"display: table-cell;\">subscribed_events&nbsp;=&nbsp;PropertyValueSet(),</div></div><div class=\"p1041\" style=\"display: none;\"><div style=\"display: table-cell;\"></div><div style=\"display: table-cell;\">syncable&nbsp;=&nbsp;True,</div></div><div class=\"p1041\" style=\"display: none;\"><div style=\"display: table-cell;\"></div><div style=\"display: table-cell;\">tags&nbsp;=&nbsp;[],</div></div><div class=\"p1041\" style=\"display: none;\"><div style=\"display: table-cell;\"></div><div style=\"display: table-cell;\">view&nbsp;=&nbsp;CDSView(id='p1039', ...),</div></div><div class=\"p1041\" style=\"display: none;\"><div style=\"display: table-cell;\"></div><div style=\"display: table-cell;\">visible&nbsp;=&nbsp;True,</div></div><div class=\"p1041\" style=\"display: none;\"><div style=\"display: table-cell;\"></div><div style=\"display: table-cell;\">x_range_name&nbsp;=&nbsp;'default',</div></div><div class=\"p1041\" style=\"display: none;\"><div style=\"display: table-cell;\"></div><div style=\"display: table-cell;\">y_range_name&nbsp;=&nbsp;'default')</div></div></div>\n<script>\n(function() {\n  let expanded = false;\n  const ellipsis = document.getElementById(\"p1042\");\n  ellipsis.addEventListener(\"click\", function() {\n    const rows = document.getElementsByClassName(\"p1041\");\n    for (let i = 0; i < rows.length; i++) {\n      const el = rows[i];\n      el.style.display = expanded ? \"none\" : \"table-row\";\n    }\n    ellipsis.innerHTML = expanded ? \"&hellip;)\" : \"&lsaquo;&lsaquo;&lsaquo;\";\n    expanded = !expanded;\n  });\n})();\n</script>\n"
     },
     "execution_count": 4,
     "metadata": {},
     "output_type": "execute_result"
    }
   ],
   "source": [
    "fig = figure()\n",
    "fig.scatter(source=source)"
   ],
   "metadata": {
    "collapsed": false,
    "ExecuteTime": {
     "end_time": "2024-03-17T18:12:11.123777300Z",
     "start_time": "2024-03-17T18:12:11.090709700Z"
    }
   },
   "id": "45f580befbd27c01"
  },
  {
   "cell_type": "code",
   "execution_count": 29,
   "outputs": [],
   "source": [
    "show(fig)"
   ],
   "metadata": {
    "collapsed": false,
    "ExecuteTime": {
     "end_time": "2024-03-17T18:11:34.320226100Z",
     "start_time": "2024-03-17T18:11:34.159021800Z"
    }
   },
   "id": "cb2e312ab5f89b6e"
  },
  {
   "cell_type": "code",
   "execution_count": 7,
   "outputs": [
    {
     "data": {
      "text/plain": "shape: (5, 2)\n┌─────┬─────┐\n│ x   ┆ y   │\n│ --- ┆ --- │\n│ i64 ┆ i64 │\n╞═════╪═════╡\n│ 1   ┆ 5   │\n│ 2   ┆ 4   │\n│ 3   ┆ 3   │\n│ 4   ┆ 2   │\n│ 5   ┆ 1   │\n└─────┴─────┘",
      "text/html": "<div><style>\n.dataframe > thead > tr,\n.dataframe > tbody > tr {\n  text-align: right;\n  white-space: pre-wrap;\n}\n</style>\n<small>shape: (5, 2)</small><table border=\"1\" class=\"dataframe\"><thead><tr><th>x</th><th>y</th></tr><tr><td>i64</td><td>i64</td></tr></thead><tbody><tr><td>1</td><td>5</td></tr><tr><td>2</td><td>4</td></tr><tr><td>3</td><td>3</td></tr><tr><td>4</td><td>2</td></tr><tr><td>5</td><td>1</td></tr></tbody></table></div>"
     },
     "execution_count": 7,
     "metadata": {},
     "output_type": "execute_result"
    }
   ],
   "source": [
    "pl.DataFrame(df)"
   ],
   "metadata": {
    "collapsed": false,
    "ExecuteTime": {
     "end_time": "2024-03-17T18:13:26.241817400Z",
     "start_time": "2024-03-17T18:13:26.204244900Z"
    }
   },
   "id": "20608f14665f0bb7"
  },
  {
   "cell_type": "code",
   "execution_count": 4,
   "outputs": [
    {
     "data": {
      "text/plain": "16.125"
     },
     "execution_count": 4,
     "metadata": {},
     "output_type": "execute_result"
    }
   ],
   "source": [
    "x_length_grid_in_inches"
   ],
   "metadata": {
    "collapsed": false,
    "ExecuteTime": {
     "end_time": "2024-03-26T17:29:52.994339100Z",
     "start_time": "2024-03-26T17:29:52.966517Z"
    }
   },
   "id": "9bbd252f5cca06b3"
  },
  {
   "cell_type": "code",
   "execution_count": 18,
   "outputs": [
    {
     "name": "stdout",
     "output_type": "stream",
     "text": [
      "WellHD\n"
     ]
    },
    {
     "data": {
      "text/plain": "[Timestamp('1996-01-01 12:00:00'),\n Timestamp('1996-01-02 12:00:00'),\n Timestamp('1996-01-03 12:00:00'),\n Timestamp('1996-01-04 12:00:00'),\n Timestamp('1996-01-05 12:00:00'),\n Timestamp('1996-01-06 12:00:00'),\n Timestamp('1996-01-07 12:00:00'),\n Timestamp('1996-01-08 12:00:00'),\n Timestamp('1996-01-09 12:00:00'),\n Timestamp('1996-01-10 12:00:00'),\n Timestamp('1996-01-11 12:00:00'),\n Timestamp('1996-01-12 12:00:00'),\n Timestamp('1996-01-13 12:00:00'),\n Timestamp('1996-01-14 12:00:00'),\n Timestamp('1996-01-15 12:00:00'),\n Timestamp('1996-01-16 12:00:00'),\n Timestamp('1996-01-17 12:00:00'),\n Timestamp('1996-01-18 12:00:00'),\n Timestamp('1996-01-19 12:00:00'),\n Timestamp('1996-01-20 12:00:00'),\n Timestamp('1996-01-21 12:00:00'),\n Timestamp('1996-01-22 12:00:00'),\n Timestamp('1996-01-23 12:00:00'),\n Timestamp('1996-01-24 12:00:00'),\n Timestamp('1996-01-25 12:00:00'),\n Timestamp('1996-01-26 12:00:00'),\n Timestamp('1996-01-27 12:00:00'),\n Timestamp('1996-01-28 12:00:00'),\n Timestamp('1996-01-29 12:00:00'),\n Timestamp('1996-01-30 12:00:00'),\n Timestamp('1996-01-31 12:00:00'),\n Timestamp('1996-02-01 12:00:00'),\n Timestamp('1996-02-02 12:00:00'),\n Timestamp('1996-02-03 12:00:00'),\n Timestamp('1996-02-04 12:00:00'),\n Timestamp('1996-02-05 12:00:00'),\n Timestamp('1996-02-06 12:00:00'),\n Timestamp('1996-02-07 12:00:00'),\n Timestamp('1996-02-08 12:00:00'),\n Timestamp('1996-02-09 12:00:00'),\n Timestamp('1996-02-10 12:00:00'),\n Timestamp('1996-02-11 12:00:00'),\n Timestamp('1996-02-12 12:00:00'),\n Timestamp('1996-02-13 12:00:00'),\n Timestamp('1996-02-14 12:00:00'),\n Timestamp('1996-02-15 12:00:00'),\n Timestamp('1996-02-16 12:00:00'),\n Timestamp('1996-02-17 12:00:00'),\n Timestamp('1996-02-18 12:00:00'),\n Timestamp('1996-02-19 12:00:00'),\n Timestamp('1996-02-20 12:00:00'),\n Timestamp('1996-02-21 12:00:00'),\n Timestamp('1996-02-22 12:00:00'),\n Timestamp('1996-02-23 12:00:00'),\n Timestamp('1996-02-24 12:00:00'),\n Timestamp('1996-02-25 12:00:00'),\n Timestamp('1996-02-26 12:00:00'),\n Timestamp('1996-02-27 12:00:00'),\n Timestamp('1996-02-28 12:00:00'),\n Timestamp('1996-02-29 12:00:00'),\n Timestamp('1996-03-01 12:00:00'),\n Timestamp('1996-03-02 12:00:00'),\n Timestamp('1996-03-03 12:00:00'),\n Timestamp('1996-03-04 12:00:00'),\n Timestamp('1996-03-05 12:00:00'),\n Timestamp('1996-03-06 12:00:00'),\n Timestamp('1996-03-07 12:00:00'),\n Timestamp('1996-03-08 12:00:00'),\n Timestamp('1996-03-09 12:00:00'),\n Timestamp('1996-03-10 12:00:00'),\n Timestamp('1996-03-11 12:00:00'),\n Timestamp('1996-03-12 12:00:00'),\n Timestamp('1996-03-13 12:00:00'),\n Timestamp('1996-03-14 12:00:00'),\n Timestamp('1996-03-15 12:00:00'),\n Timestamp('1996-03-16 12:00:00'),\n Timestamp('1996-03-17 12:00:00'),\n Timestamp('1996-03-18 12:00:00'),\n Timestamp('1996-03-19 12:00:00'),\n Timestamp('1996-03-20 12:00:00'),\n Timestamp('1996-03-21 12:00:00'),\n Timestamp('1996-03-22 12:00:00'),\n Timestamp('1996-03-23 12:00:00'),\n Timestamp('1996-03-24 12:00:00'),\n Timestamp('1996-03-25 12:00:00'),\n Timestamp('1996-03-26 12:00:00'),\n Timestamp('1996-03-27 12:00:00'),\n Timestamp('1996-03-28 12:00:00'),\n Timestamp('1996-03-29 12:00:00'),\n Timestamp('1996-03-30 12:00:00'),\n Timestamp('1996-03-31 12:00:00'),\n Timestamp('1996-04-01 12:00:00'),\n Timestamp('1996-04-02 12:00:00'),\n Timestamp('1996-04-03 12:00:00'),\n Timestamp('1996-04-04 12:00:00'),\n Timestamp('1996-04-05 12:00:00'),\n Timestamp('1996-04-06 12:00:00'),\n Timestamp('1996-04-07 12:00:00'),\n Timestamp('1996-04-08 12:00:00'),\n Timestamp('1996-04-09 12:00:00'),\n Timestamp('1996-04-10 12:00:00'),\n Timestamp('1996-04-11 12:00:00'),\n Timestamp('1996-04-12 12:00:00'),\n Timestamp('1996-04-13 12:00:00'),\n Timestamp('1996-04-14 12:00:00'),\n Timestamp('1996-04-15 12:00:00'),\n Timestamp('1996-04-16 12:00:00'),\n Timestamp('1996-04-17 12:00:00'),\n Timestamp('1996-04-18 12:00:00'),\n Timestamp('1996-04-19 12:00:00'),\n Timestamp('1996-04-20 12:00:00'),\n Timestamp('1996-04-21 12:00:00'),\n Timestamp('1996-04-22 12:00:00'),\n Timestamp('1996-04-23 12:00:00'),\n Timestamp('1996-04-24 12:00:00'),\n Timestamp('1996-04-25 12:00:00'),\n Timestamp('1996-04-26 12:00:00'),\n Timestamp('1996-04-27 12:00:00'),\n Timestamp('1996-04-28 12:00:00'),\n Timestamp('1996-04-29 12:00:00'),\n Timestamp('1996-04-30 12:00:00'),\n Timestamp('1996-05-01 12:00:00'),\n Timestamp('1996-05-02 12:00:00'),\n Timestamp('1996-05-03 12:00:00'),\n Timestamp('1996-05-04 12:00:00'),\n Timestamp('1996-05-05 12:00:00'),\n Timestamp('1996-05-06 12:00:00'),\n Timestamp('1996-05-07 12:00:00'),\n Timestamp('1996-05-08 12:00:00'),\n Timestamp('1996-05-09 12:00:00'),\n Timestamp('1996-05-10 12:00:00'),\n Timestamp('1996-05-11 12:00:00'),\n Timestamp('1996-05-12 12:00:00'),\n Timestamp('1996-05-13 12:00:00'),\n Timestamp('1996-05-14 12:00:00'),\n Timestamp('1996-05-15 12:00:00'),\n Timestamp('1996-05-16 12:00:00'),\n Timestamp('1996-05-17 12:00:00'),\n Timestamp('1996-05-18 12:00:00'),\n Timestamp('1996-05-19 12:00:00'),\n Timestamp('1996-05-20 12:00:00'),\n Timestamp('1996-05-21 12:00:00'),\n Timestamp('1996-05-22 12:00:00'),\n Timestamp('1996-05-23 12:00:00'),\n Timestamp('1996-05-24 12:00:00'),\n Timestamp('1996-05-25 12:00:00'),\n Timestamp('1996-05-26 12:00:00'),\n Timestamp('1996-05-27 12:00:00'),\n Timestamp('1996-05-28 12:00:00'),\n Timestamp('1996-05-29 12:00:00'),\n Timestamp('1996-05-30 12:00:00'),\n Timestamp('1996-05-31 12:00:00'),\n Timestamp('1996-06-01 12:00:00'),\n Timestamp('1996-06-02 12:00:00'),\n Timestamp('1996-06-03 12:00:00'),\n Timestamp('1996-06-04 12:00:00'),\n Timestamp('1996-06-05 12:00:00'),\n Timestamp('1996-06-06 12:00:00'),\n Timestamp('1996-06-07 12:00:00'),\n Timestamp('1996-06-08 12:00:00'),\n Timestamp('1996-06-09 12:00:00'),\n Timestamp('1996-06-10 12:00:00'),\n Timestamp('1996-06-11 12:00:00'),\n Timestamp('1996-06-12 12:00:00'),\n Timestamp('1996-06-13 12:00:00'),\n Timestamp('1996-06-14 12:00:00'),\n Timestamp('1996-06-15 12:00:00'),\n Timestamp('1996-06-16 12:00:00'),\n Timestamp('1996-06-17 12:00:00'),\n Timestamp('1996-06-18 12:00:00'),\n Timestamp('1996-06-19 12:00:00'),\n Timestamp('1996-06-20 12:00:00'),\n Timestamp('1996-06-21 12:00:00'),\n Timestamp('1996-06-22 12:00:00'),\n Timestamp('1996-06-23 12:00:00'),\n Timestamp('1996-06-24 12:00:00'),\n Timestamp('1996-06-25 12:00:00'),\n Timestamp('1996-06-26 12:00:00'),\n Timestamp('1996-06-27 12:00:00'),\n Timestamp('1996-06-28 12:00:00'),\n Timestamp('1996-06-29 12:00:00'),\n Timestamp('1996-06-30 12:00:00'),\n Timestamp('1996-07-01 12:00:00'),\n Timestamp('1996-07-02 12:00:00'),\n Timestamp('1996-07-03 12:00:00'),\n Timestamp('1996-07-04 12:00:00'),\n Timestamp('1996-07-05 12:00:00'),\n Timestamp('1996-07-06 12:00:00'),\n Timestamp('1996-07-07 12:00:00'),\n Timestamp('1996-07-08 12:00:00'),\n Timestamp('1996-07-09 12:00:00'),\n Timestamp('1996-07-10 12:00:00'),\n Timestamp('1996-07-11 12:00:00'),\n Timestamp('1996-07-12 12:00:00'),\n Timestamp('1996-07-13 12:00:00'),\n Timestamp('1996-07-14 12:00:00'),\n Timestamp('1996-07-15 12:00:00'),\n Timestamp('1996-07-16 12:00:00'),\n Timestamp('1996-07-17 12:00:00'),\n Timestamp('1996-07-18 12:00:00'),\n Timestamp('1996-07-19 12:00:00'),\n Timestamp('1996-07-20 12:00:00'),\n Timestamp('1996-07-21 12:00:00'),\n Timestamp('1996-07-22 12:00:00'),\n Timestamp('1996-07-23 12:00:00'),\n Timestamp('1996-07-24 12:00:00'),\n Timestamp('1996-07-25 12:00:00'),\n Timestamp('1996-07-26 12:00:00'),\n Timestamp('1996-07-27 12:00:00'),\n Timestamp('1996-07-28 12:00:00'),\n Timestamp('1996-07-29 12:00:00'),\n Timestamp('1996-07-30 12:00:00'),\n Timestamp('1996-07-31 12:00:00'),\n Timestamp('1996-08-01 12:00:00'),\n Timestamp('1996-08-02 12:00:00'),\n Timestamp('1996-08-03 12:00:00'),\n Timestamp('1996-08-04 12:00:00'),\n Timestamp('1996-08-05 12:00:00'),\n Timestamp('1996-08-06 12:00:00'),\n Timestamp('1996-08-07 12:00:00'),\n Timestamp('1996-08-08 12:00:00'),\n Timestamp('1996-08-09 12:00:00'),\n Timestamp('1996-08-10 12:00:00'),\n Timestamp('1996-08-11 12:00:00'),\n Timestamp('1996-08-12 12:00:00'),\n Timestamp('1996-08-13 12:00:00'),\n Timestamp('1996-08-14 12:00:00'),\n Timestamp('1996-08-15 12:00:00'),\n Timestamp('1996-08-16 12:00:00'),\n Timestamp('1996-08-17 12:00:00'),\n Timestamp('1996-08-18 12:00:00'),\n Timestamp('1996-08-19 12:00:00'),\n Timestamp('1996-08-20 12:00:00'),\n Timestamp('1996-08-21 12:00:00'),\n Timestamp('1996-08-22 12:00:00'),\n Timestamp('1996-08-23 12:00:00'),\n Timestamp('1996-08-24 12:00:00'),\n Timestamp('1996-08-25 12:00:00'),\n Timestamp('1996-08-26 12:00:00'),\n Timestamp('1996-08-27 12:00:00'),\n Timestamp('1996-08-28 12:00:00'),\n Timestamp('1996-08-29 12:00:00'),\n Timestamp('1996-08-30 12:00:00'),\n Timestamp('1996-08-31 12:00:00'),\n Timestamp('1996-09-01 12:00:00'),\n Timestamp('1996-09-02 12:00:00'),\n Timestamp('1996-09-03 12:00:00'),\n Timestamp('1996-09-04 12:00:00'),\n Timestamp('1996-09-05 12:00:00'),\n Timestamp('1996-09-06 12:00:00'),\n Timestamp('1996-09-07 12:00:00'),\n Timestamp('1996-09-08 12:00:00'),\n Timestamp('1996-09-09 12:00:00'),\n Timestamp('1996-09-10 12:00:00'),\n Timestamp('1996-09-11 12:00:00'),\n Timestamp('1996-09-12 12:00:00'),\n Timestamp('1996-09-13 12:00:00'),\n Timestamp('1996-09-14 12:00:00'),\n Timestamp('1996-09-15 12:00:00'),\n Timestamp('1996-09-16 12:00:00'),\n Timestamp('1996-09-17 12:00:00'),\n Timestamp('1996-09-18 12:00:00'),\n Timestamp('1996-09-19 12:00:00'),\n Timestamp('1996-09-20 12:00:00'),\n Timestamp('1996-09-21 12:00:00'),\n Timestamp('1996-09-22 12:00:00'),\n Timestamp('1996-09-23 12:00:00'),\n Timestamp('1996-09-24 12:00:00'),\n Timestamp('1996-09-25 12:00:00'),\n Timestamp('1996-09-26 12:00:00'),\n Timestamp('1996-09-27 12:00:00'),\n Timestamp('1996-09-28 12:00:00'),\n Timestamp('1996-09-29 12:00:00'),\n Timestamp('1996-09-30 12:00:00'),\n Timestamp('1996-10-01 12:00:00'),\n Timestamp('1996-10-02 12:00:00'),\n Timestamp('1996-10-03 12:00:00'),\n Timestamp('1996-10-04 12:00:00'),\n Timestamp('1996-10-05 12:00:00'),\n Timestamp('1996-10-06 12:00:00'),\n Timestamp('1996-10-07 12:00:00'),\n Timestamp('1996-10-08 12:00:00'),\n Timestamp('1996-10-09 12:00:00'),\n Timestamp('1996-10-10 12:00:00'),\n Timestamp('1996-10-11 12:00:00'),\n Timestamp('1996-10-12 12:00:00'),\n Timestamp('1996-10-13 12:00:00'),\n Timestamp('1996-10-14 12:00:00'),\n Timestamp('1996-10-15 12:00:00'),\n Timestamp('1996-10-16 12:00:00'),\n Timestamp('1996-10-17 12:00:00'),\n Timestamp('1996-10-18 12:00:00'),\n Timestamp('1996-10-19 12:00:00'),\n Timestamp('1996-10-20 12:00:00'),\n Timestamp('1996-10-21 12:00:00'),\n Timestamp('1996-10-22 12:00:00'),\n Timestamp('1996-10-23 12:00:00'),\n Timestamp('1996-10-24 12:00:00'),\n Timestamp('1996-10-25 12:00:00'),\n Timestamp('1996-10-26 12:00:00'),\n Timestamp('1996-10-27 12:00:00'),\n Timestamp('1996-10-28 12:00:00'),\n Timestamp('1996-10-29 12:00:00'),\n Timestamp('1996-10-30 12:00:00'),\n Timestamp('1996-10-31 12:00:00'),\n Timestamp('1996-11-01 12:00:00'),\n Timestamp('1996-11-02 12:00:00'),\n Timestamp('1996-11-03 12:00:00'),\n Timestamp('1996-11-04 12:00:00'),\n Timestamp('1996-11-05 12:00:00'),\n Timestamp('1996-11-06 12:00:00'),\n Timestamp('1996-11-07 12:00:00'),\n Timestamp('1996-11-08 12:00:00'),\n Timestamp('1996-11-09 12:00:00'),\n Timestamp('1996-11-10 12:00:00'),\n Timestamp('1996-11-11 12:00:00'),\n Timestamp('1996-11-12 12:00:00'),\n Timestamp('1996-11-13 12:00:00'),\n Timestamp('1996-11-14 12:00:00'),\n Timestamp('1996-11-15 12:00:00'),\n Timestamp('1996-11-16 12:00:00'),\n Timestamp('1996-11-17 12:00:00'),\n Timestamp('1996-11-18 12:00:00'),\n Timestamp('1996-11-19 12:00:00'),\n Timestamp('1996-11-20 12:00:00'),\n Timestamp('1996-11-21 12:00:00'),\n Timestamp('1996-11-22 12:00:00'),\n Timestamp('1996-11-23 12:00:00'),\n Timestamp('1996-11-24 12:00:00'),\n Timestamp('1996-11-25 12:00:00'),\n Timestamp('1996-11-26 12:00:00'),\n Timestamp('1996-11-27 12:00:00'),\n Timestamp('1996-11-28 12:00:00'),\n Timestamp('1996-11-29 12:00:00'),\n Timestamp('1996-11-30 12:00:00'),\n Timestamp('1996-12-01 12:00:00'),\n Timestamp('1996-12-02 12:00:00'),\n Timestamp('1996-12-03 12:00:00'),\n Timestamp('1996-12-04 12:00:00'),\n Timestamp('1996-12-05 12:00:00'),\n Timestamp('1996-12-06 12:00:00'),\n Timestamp('1996-12-07 12:00:00'),\n Timestamp('1996-12-08 12:00:00'),\n Timestamp('1996-12-09 12:00:00'),\n Timestamp('1996-12-10 12:00:00'),\n Timestamp('1996-12-11 12:00:00'),\n Timestamp('1996-12-12 12:00:00'),\n Timestamp('1996-12-13 12:00:00'),\n Timestamp('1996-12-14 12:00:00'),\n Timestamp('1996-12-15 12:00:00'),\n Timestamp('1996-12-16 12:00:00'),\n Timestamp('1996-12-17 12:00:00'),\n Timestamp('1996-12-18 12:00:00'),\n Timestamp('1996-12-19 12:00:00'),\n Timestamp('1996-12-20 12:00:00'),\n Timestamp('1996-12-21 12:00:00'),\n Timestamp('1996-12-22 12:00:00'),\n Timestamp('1996-12-23 12:00:00'),\n Timestamp('1996-12-24 12:00:00'),\n Timestamp('1996-12-25 12:00:00'),\n Timestamp('1996-12-26 12:00:00'),\n Timestamp('1996-12-27 12:00:00'),\n Timestamp('1996-12-28 12:00:00'),\n Timestamp('1996-12-29 12:00:00'),\n Timestamp('1996-12-30 12:00:00'),\n Timestamp('1996-12-31 12:00:00'),\n Timestamp('1997-01-01 12:00:00'),\n Timestamp('1997-01-02 12:00:00'),\n Timestamp('1997-01-03 12:00:00'),\n Timestamp('1997-01-04 12:00:00'),\n Timestamp('1997-01-05 12:00:00'),\n Timestamp('1997-01-06 12:00:00'),\n Timestamp('1997-01-07 12:00:00'),\n Timestamp('1997-01-08 12:00:00'),\n Timestamp('1997-01-09 12:00:00'),\n Timestamp('1997-01-10 12:00:00'),\n Timestamp('1997-01-11 12:00:00'),\n Timestamp('1997-01-12 12:00:00'),\n Timestamp('1997-01-13 12:00:00'),\n Timestamp('1997-01-14 12:00:00'),\n Timestamp('1997-01-15 12:00:00'),\n Timestamp('1997-01-16 12:00:00'),\n Timestamp('1997-01-17 12:00:00'),\n Timestamp('1997-01-18 12:00:00'),\n Timestamp('1997-01-19 12:00:00'),\n Timestamp('1997-01-20 12:00:00'),\n Timestamp('1997-01-21 12:00:00'),\n Timestamp('1997-01-22 12:00:00'),\n Timestamp('1997-01-23 12:00:00'),\n Timestamp('1997-01-24 12:00:00'),\n Timestamp('1997-01-25 12:00:00'),\n Timestamp('1997-01-26 12:00:00'),\n Timestamp('1997-01-27 12:00:00'),\n Timestamp('1997-01-28 12:00:00'),\n Timestamp('1997-01-29 12:00:00'),\n Timestamp('1997-01-30 12:00:00'),\n Timestamp('1997-01-31 12:00:00'),\n Timestamp('1997-02-01 12:00:00'),\n Timestamp('1997-02-02 12:00:00'),\n Timestamp('1997-02-03 12:00:00'),\n Timestamp('1997-02-04 12:00:00'),\n Timestamp('1997-02-05 12:00:00'),\n Timestamp('1997-02-06 12:00:00'),\n Timestamp('1997-02-07 12:00:00'),\n Timestamp('1997-02-08 12:00:00'),\n Timestamp('1997-02-09 12:00:00'),\n Timestamp('1997-02-10 12:00:00'),\n Timestamp('1997-02-11 12:00:00'),\n Timestamp('1997-02-12 12:00:00'),\n Timestamp('1997-02-13 12:00:00'),\n Timestamp('1997-02-14 12:00:00'),\n Timestamp('1997-02-15 12:00:00'),\n Timestamp('1997-02-16 12:00:00'),\n Timestamp('1997-02-17 12:00:00'),\n Timestamp('1997-02-18 12:00:00'),\n Timestamp('1997-02-19 12:00:00'),\n Timestamp('1997-02-20 12:00:00'),\n Timestamp('1997-02-21 12:00:00'),\n Timestamp('1997-02-22 12:00:00'),\n Timestamp('1997-02-23 12:00:00'),\n Timestamp('1997-02-24 12:00:00'),\n Timestamp('1997-02-25 12:00:00'),\n Timestamp('1997-02-26 12:00:00'),\n Timestamp('1997-02-27 12:00:00'),\n Timestamp('1997-02-28 12:00:00'),\n Timestamp('1997-03-01 12:00:00'),\n Timestamp('1997-03-02 12:00:00'),\n Timestamp('1997-03-03 12:00:00'),\n Timestamp('1997-03-04 12:00:00'),\n Timestamp('1997-03-05 12:00:00'),\n Timestamp('1997-03-06 12:00:00'),\n Timestamp('1997-03-07 12:00:00'),\n Timestamp('1997-03-08 12:00:00'),\n Timestamp('1997-03-09 12:00:00'),\n Timestamp('1997-03-10 12:00:00'),\n Timestamp('1997-03-11 12:00:00'),\n Timestamp('1997-03-12 12:00:00'),\n Timestamp('1997-03-13 12:00:00'),\n Timestamp('1997-03-14 12:00:00'),\n Timestamp('1997-03-15 12:00:00'),\n Timestamp('1997-03-16 12:00:00'),\n Timestamp('1997-03-17 12:00:00'),\n Timestamp('1997-03-18 12:00:00'),\n Timestamp('1997-03-19 12:00:00'),\n Timestamp('1997-03-20 12:00:00'),\n Timestamp('1997-03-21 12:00:00'),\n Timestamp('1997-03-22 12:00:00'),\n Timestamp('1997-03-23 12:00:00'),\n Timestamp('1997-03-24 12:00:00'),\n Timestamp('1997-03-25 12:00:00'),\n Timestamp('1997-03-26 12:00:00'),\n Timestamp('1997-03-27 12:00:00'),\n Timestamp('1997-03-28 12:00:00'),\n Timestamp('1997-03-29 12:00:00'),\n Timestamp('1997-03-30 12:00:00'),\n Timestamp('1997-03-31 12:00:00'),\n Timestamp('1997-04-01 12:00:00'),\n Timestamp('1997-04-02 12:00:00'),\n Timestamp('1997-04-03 12:00:00'),\n Timestamp('1997-04-04 12:00:00'),\n Timestamp('1997-04-05 12:00:00'),\n Timestamp('1997-04-06 12:00:00'),\n Timestamp('1997-04-07 12:00:00'),\n Timestamp('1997-04-08 12:00:00'),\n Timestamp('1997-04-09 12:00:00'),\n Timestamp('1997-04-10 12:00:00'),\n Timestamp('1997-04-11 12:00:00'),\n Timestamp('1997-04-12 12:00:00'),\n Timestamp('1997-04-13 12:00:00'),\n Timestamp('1997-04-14 12:00:00'),\n Timestamp('1997-04-15 12:00:00'),\n Timestamp('1997-04-16 12:00:00'),\n Timestamp('1997-04-17 12:00:00'),\n Timestamp('1997-04-18 12:00:00'),\n Timestamp('1997-04-19 12:00:00'),\n Timestamp('1997-04-20 12:00:00'),\n Timestamp('1997-04-21 12:00:00'),\n Timestamp('1997-04-22 12:00:00'),\n Timestamp('1997-04-23 12:00:00'),\n Timestamp('1997-04-24 12:00:00'),\n Timestamp('1997-04-25 12:00:00'),\n Timestamp('1997-04-26 12:00:00'),\n Timestamp('1997-04-27 12:00:00'),\n Timestamp('1997-04-28 12:00:00'),\n Timestamp('1997-04-29 12:00:00'),\n Timestamp('1997-04-30 12:00:00'),\n Timestamp('1997-05-01 12:00:00'),\n Timestamp('1997-05-02 12:00:00'),\n Timestamp('1997-05-03 12:00:00'),\n Timestamp('1997-05-04 12:00:00'),\n Timestamp('1997-05-05 12:00:00'),\n Timestamp('1997-05-06 12:00:00'),\n Timestamp('1997-05-07 12:00:00'),\n Timestamp('1997-05-08 12:00:00'),\n Timestamp('1997-05-09 12:00:00'),\n Timestamp('1997-05-10 12:00:00'),\n Timestamp('1997-05-11 12:00:00'),\n Timestamp('1997-05-12 12:00:00'),\n Timestamp('1997-05-13 12:00:00'),\n Timestamp('1997-05-14 12:00:00'),\n Timestamp('1997-05-15 12:00:00'),\n Timestamp('1997-05-16 12:00:00'),\n Timestamp('1997-05-17 12:00:00'),\n Timestamp('1997-05-18 12:00:00'),\n Timestamp('1997-05-19 12:00:00'),\n Timestamp('1997-05-20 12:00:00'),\n Timestamp('1997-05-21 12:00:00'),\n Timestamp('1997-05-22 12:00:00'),\n Timestamp('1997-05-23 12:00:00'),\n Timestamp('1997-05-24 12:00:00'),\n Timestamp('1997-05-25 12:00:00'),\n Timestamp('1997-05-26 12:00:00'),\n Timestamp('1997-05-27 12:00:00'),\n Timestamp('1997-05-28 12:00:00'),\n Timestamp('1997-05-29 12:00:00'),\n Timestamp('1997-05-30 12:00:00'),\n Timestamp('1997-05-31 12:00:00'),\n Timestamp('1997-06-01 12:00:00'),\n Timestamp('1997-06-02 12:00:00'),\n Timestamp('1997-06-03 12:00:00'),\n Timestamp('1997-06-04 12:00:00'),\n Timestamp('1997-06-05 12:00:00'),\n Timestamp('1997-06-06 12:00:00'),\n Timestamp('1997-06-07 12:00:00'),\n Timestamp('1997-06-08 12:00:00'),\n Timestamp('1997-06-09 12:00:00'),\n Timestamp('1997-06-10 12:00:00'),\n Timestamp('1997-06-11 12:00:00'),\n Timestamp('1997-06-12 12:00:00'),\n Timestamp('1997-06-13 12:00:00'),\n Timestamp('1997-06-14 12:00:00'),\n Timestamp('1997-06-15 12:00:00'),\n Timestamp('1997-06-16 12:00:00'),\n Timestamp('1997-06-17 12:00:00'),\n Timestamp('1997-06-18 12:00:00'),\n Timestamp('1997-06-19 12:00:00'),\n Timestamp('1997-06-20 12:00:00'),\n Timestamp('1997-06-21 12:00:00'),\n Timestamp('1997-06-22 12:00:00'),\n Timestamp('1997-06-23 12:00:00'),\n Timestamp('1997-06-24 12:00:00'),\n Timestamp('1997-06-25 12:00:00'),\n Timestamp('1997-06-26 12:00:00'),\n Timestamp('1997-06-27 12:00:00'),\n Timestamp('1997-06-28 12:00:00'),\n Timestamp('1997-06-29 12:00:00'),\n Timestamp('1997-06-30 12:00:00'),\n Timestamp('1997-07-01 12:00:00'),\n Timestamp('1997-07-02 12:00:00'),\n Timestamp('1997-07-03 12:00:00'),\n Timestamp('1997-07-04 12:00:00'),\n Timestamp('1997-07-05 12:00:00'),\n Timestamp('1997-07-06 12:00:00'),\n Timestamp('1997-07-07 12:00:00'),\n Timestamp('1997-07-08 12:00:00'),\n Timestamp('1997-07-09 12:00:00'),\n Timestamp('1997-07-10 12:00:00'),\n Timestamp('1997-07-11 12:00:00'),\n Timestamp('1997-07-12 12:00:00'),\n Timestamp('1997-07-13 12:00:00'),\n Timestamp('1997-07-14 12:00:00'),\n Timestamp('1997-07-15 12:00:00'),\n Timestamp('1997-07-16 12:00:00'),\n Timestamp('1997-07-17 12:00:00'),\n Timestamp('1997-07-18 12:00:00'),\n Timestamp('1997-07-19 12:00:00'),\n Timestamp('1997-07-20 12:00:00'),\n Timestamp('1997-07-21 12:00:00'),\n Timestamp('1997-07-22 12:00:00'),\n Timestamp('1997-07-23 12:00:00'),\n Timestamp('1997-07-24 12:00:00'),\n Timestamp('1997-07-25 12:00:00'),\n Timestamp('1997-07-26 12:00:00'),\n Timestamp('1997-07-27 12:00:00'),\n Timestamp('1997-07-28 12:00:00'),\n Timestamp('1997-07-29 12:00:00'),\n Timestamp('1997-07-30 12:00:00'),\n Timestamp('1997-07-31 12:00:00'),\n Timestamp('1997-08-01 12:00:00'),\n Timestamp('1997-08-02 12:00:00'),\n Timestamp('1997-08-03 12:00:00'),\n Timestamp('1997-08-04 12:00:00'),\n Timestamp('1997-08-05 12:00:00'),\n Timestamp('1997-08-06 12:00:00'),\n Timestamp('1997-08-07 12:00:00'),\n Timestamp('1997-08-08 12:00:00'),\n Timestamp('1997-08-09 12:00:00'),\n Timestamp('1997-08-10 12:00:00'),\n Timestamp('1997-08-11 12:00:00'),\n Timestamp('1997-08-12 12:00:00'),\n Timestamp('1997-08-13 12:00:00'),\n Timestamp('1997-08-14 12:00:00'),\n Timestamp('1997-08-15 12:00:00'),\n Timestamp('1997-08-16 12:00:00'),\n Timestamp('1997-08-17 12:00:00'),\n Timestamp('1997-08-18 12:00:00'),\n Timestamp('1997-08-19 12:00:00'),\n Timestamp('1997-08-20 12:00:00'),\n Timestamp('1997-08-21 12:00:00'),\n Timestamp('1997-08-22 12:00:00'),\n Timestamp('1997-08-23 12:00:00'),\n Timestamp('1997-08-24 12:00:00'),\n Timestamp('1997-08-25 12:00:00'),\n Timestamp('1997-08-26 12:00:00'),\n Timestamp('1997-08-27 12:00:00'),\n Timestamp('1997-08-28 12:00:00'),\n Timestamp('1997-08-29 12:00:00'),\n Timestamp('1997-08-30 12:00:00'),\n Timestamp('1997-08-31 12:00:00'),\n Timestamp('1997-09-01 12:00:00'),\n Timestamp('1997-09-02 12:00:00'),\n Timestamp('1997-09-03 12:00:00'),\n Timestamp('1997-09-04 12:00:00'),\n Timestamp('1997-09-05 12:00:00'),\n Timestamp('1997-09-06 12:00:00'),\n Timestamp('1997-09-07 12:00:00'),\n Timestamp('1997-09-08 12:00:00'),\n Timestamp('1997-09-09 12:00:00'),\n Timestamp('1997-09-10 12:00:00'),\n Timestamp('1997-09-11 12:00:00'),\n Timestamp('1997-09-12 12:00:00'),\n Timestamp('1997-09-13 12:00:00'),\n Timestamp('1997-09-14 12:00:00'),\n Timestamp('1997-09-15 12:00:00'),\n Timestamp('1997-09-16 12:00:00'),\n Timestamp('1997-09-17 12:00:00'),\n Timestamp('1997-09-18 12:00:00'),\n Timestamp('1997-09-19 12:00:00'),\n Timestamp('1997-09-20 12:00:00'),\n Timestamp('1997-09-21 12:00:00'),\n Timestamp('1997-09-22 12:00:00'),\n Timestamp('1997-09-23 12:00:00'),\n Timestamp('1997-09-24 12:00:00'),\n Timestamp('1997-09-25 12:00:00'),\n Timestamp('1997-09-26 12:00:00'),\n Timestamp('1997-09-27 12:00:00'),\n Timestamp('1997-09-28 12:00:00'),\n Timestamp('1997-09-29 12:00:00'),\n Timestamp('1997-09-30 12:00:00'),\n Timestamp('1997-10-01 12:00:00'),\n Timestamp('1997-10-02 12:00:00'),\n Timestamp('1997-10-03 12:00:00'),\n Timestamp('1997-10-04 12:00:00'),\n Timestamp('1997-10-05 12:00:00'),\n Timestamp('1997-10-06 12:00:00'),\n Timestamp('1997-10-07 12:00:00'),\n Timestamp('1997-10-08 12:00:00'),\n Timestamp('1997-10-09 12:00:00'),\n Timestamp('1997-10-10 12:00:00'),\n Timestamp('1997-10-11 12:00:00'),\n Timestamp('1997-10-12 12:00:00'),\n Timestamp('1997-10-13 12:00:00'),\n Timestamp('1997-10-14 12:00:00'),\n Timestamp('1997-10-15 12:00:00'),\n Timestamp('1997-10-16 12:00:00'),\n Timestamp('1997-10-17 12:00:00'),\n Timestamp('1997-10-18 12:00:00'),\n Timestamp('1997-10-19 12:00:00'),\n Timestamp('1997-10-20 12:00:00'),\n Timestamp('1997-10-21 12:00:00'),\n Timestamp('1997-10-22 12:00:00'),\n Timestamp('1997-10-23 12:00:00'),\n Timestamp('1997-10-24 12:00:00'),\n Timestamp('1997-10-25 12:00:00'),\n Timestamp('1997-10-26 12:00:00'),\n Timestamp('1997-10-27 12:00:00'),\n Timestamp('1997-10-28 12:00:00'),\n Timestamp('1997-10-29 12:00:00'),\n Timestamp('1997-10-30 12:00:00'),\n Timestamp('1997-10-31 12:00:00'),\n Timestamp('1997-11-01 12:00:00'),\n Timestamp('1997-11-02 12:00:00'),\n Timestamp('1997-11-03 12:00:00'),\n Timestamp('1997-11-04 12:00:00'),\n Timestamp('1997-11-05 12:00:00'),\n Timestamp('1997-11-06 12:00:00'),\n Timestamp('1997-11-07 12:00:00'),\n Timestamp('1997-11-08 12:00:00'),\n Timestamp('1997-11-09 12:00:00'),\n Timestamp('1997-11-10 12:00:00'),\n Timestamp('1997-11-11 12:00:00'),\n Timestamp('1997-11-12 12:00:00'),\n Timestamp('1997-11-13 12:00:00'),\n Timestamp('1997-11-14 12:00:00'),\n Timestamp('1997-11-15 12:00:00'),\n Timestamp('1997-11-16 12:00:00'),\n Timestamp('1997-11-17 12:00:00'),\n Timestamp('1997-11-18 12:00:00'),\n Timestamp('1997-11-19 12:00:00'),\n Timestamp('1997-11-20 12:00:00'),\n Timestamp('1997-11-21 12:00:00'),\n Timestamp('1997-11-22 12:00:00'),\n Timestamp('1997-11-23 12:00:00'),\n Timestamp('1997-11-24 12:00:00'),\n Timestamp('1997-11-25 12:00:00'),\n Timestamp('1997-11-26 12:00:00'),\n Timestamp('1997-11-27 12:00:00'),\n Timestamp('1997-11-28 12:00:00'),\n Timestamp('1997-11-29 12:00:00'),\n Timestamp('1997-11-30 12:00:00'),\n Timestamp('1997-12-01 12:00:00'),\n Timestamp('1997-12-02 12:00:00'),\n Timestamp('1997-12-03 12:00:00'),\n Timestamp('1997-12-04 12:00:00'),\n Timestamp('1997-12-05 12:00:00'),\n Timestamp('1997-12-06 12:00:00'),\n Timestamp('1997-12-07 12:00:00'),\n Timestamp('1997-12-08 12:00:00'),\n Timestamp('1997-12-09 12:00:00'),\n Timestamp('1997-12-10 12:00:00'),\n Timestamp('1997-12-11 12:00:00'),\n Timestamp('1997-12-12 12:00:00'),\n Timestamp('1997-12-13 12:00:00'),\n Timestamp('1997-12-14 12:00:00'),\n Timestamp('1997-12-15 12:00:00'),\n Timestamp('1997-12-16 12:00:00'),\n Timestamp('1997-12-17 12:00:00'),\n Timestamp('1997-12-18 12:00:00'),\n Timestamp('1997-12-19 12:00:00'),\n Timestamp('1997-12-20 12:00:00'),\n Timestamp('1997-12-21 12:00:00'),\n Timestamp('1997-12-22 12:00:00'),\n Timestamp('1997-12-23 12:00:00'),\n Timestamp('1997-12-24 12:00:00'),\n Timestamp('1997-12-25 12:00:00'),\n Timestamp('1997-12-26 12:00:00'),\n Timestamp('1997-12-27 12:00:00'),\n Timestamp('1997-12-28 12:00:00'),\n Timestamp('1997-12-29 12:00:00'),\n Timestamp('1997-12-30 12:00:00'),\n Timestamp('1997-12-31 12:00:00'),\n Timestamp('1998-01-01 12:00:00'),\n Timestamp('1998-01-02 12:00:00'),\n Timestamp('1998-01-03 12:00:00'),\n Timestamp('1998-01-04 12:00:00'),\n Timestamp('1998-01-05 12:00:00'),\n Timestamp('1998-01-06 12:00:00'),\n Timestamp('1998-01-07 12:00:00'),\n Timestamp('1998-01-08 12:00:00'),\n Timestamp('1998-01-09 12:00:00'),\n Timestamp('1998-01-10 12:00:00'),\n Timestamp('1998-01-11 12:00:00'),\n Timestamp('1998-01-12 12:00:00'),\n Timestamp('1998-01-13 12:00:00'),\n Timestamp('1998-01-14 12:00:00'),\n Timestamp('1998-01-15 12:00:00'),\n Timestamp('1998-01-16 12:00:00'),\n Timestamp('1998-01-17 12:00:00'),\n Timestamp('1998-01-18 12:00:00'),\n Timestamp('1998-01-19 12:00:00'),\n Timestamp('1998-01-20 12:00:00'),\n Timestamp('1998-01-21 12:00:00'),\n Timestamp('1998-01-22 12:00:00'),\n Timestamp('1998-01-23 12:00:00'),\n Timestamp('1998-01-24 12:00:00'),\n Timestamp('1998-01-25 12:00:00'),\n Timestamp('1998-01-26 12:00:00'),\n Timestamp('1998-01-27 12:00:00'),\n Timestamp('1998-01-28 12:00:00'),\n Timestamp('1998-01-29 12:00:00'),\n Timestamp('1998-01-30 12:00:00'),\n Timestamp('1998-01-31 12:00:00'),\n Timestamp('1998-02-01 12:00:00'),\n Timestamp('1998-02-02 12:00:00'),\n Timestamp('1998-02-03 12:00:00'),\n Timestamp('1998-02-04 12:00:00'),\n Timestamp('1998-02-05 12:00:00'),\n Timestamp('1998-02-06 12:00:00'),\n Timestamp('1998-02-07 12:00:00'),\n Timestamp('1998-02-08 12:00:00'),\n Timestamp('1998-02-09 12:00:00'),\n Timestamp('1998-02-10 12:00:00'),\n Timestamp('1998-02-11 12:00:00'),\n Timestamp('1998-02-12 12:00:00'),\n Timestamp('1998-02-13 12:00:00'),\n Timestamp('1998-02-14 12:00:00'),\n Timestamp('1998-02-15 12:00:00'),\n Timestamp('1998-02-16 12:00:00'),\n Timestamp('1998-02-17 12:00:00'),\n Timestamp('1998-02-18 12:00:00'),\n Timestamp('1998-02-19 12:00:00'),\n Timestamp('1998-02-20 12:00:00'),\n Timestamp('1998-02-21 12:00:00'),\n Timestamp('1998-02-22 12:00:00'),\n Timestamp('1998-02-23 12:00:00'),\n Timestamp('1998-02-24 12:00:00'),\n Timestamp('1998-02-25 12:00:00'),\n Timestamp('1998-02-26 12:00:00'),\n Timestamp('1998-02-27 12:00:00'),\n Timestamp('1998-02-28 12:00:00'),\n Timestamp('1998-03-01 12:00:00'),\n Timestamp('1998-03-02 12:00:00'),\n Timestamp('1998-03-03 12:00:00'),\n Timestamp('1998-03-04 12:00:00'),\n Timestamp('1998-03-05 12:00:00'),\n Timestamp('1998-03-06 12:00:00'),\n Timestamp('1998-03-07 12:00:00'),\n Timestamp('1998-03-08 12:00:00'),\n Timestamp('1998-03-09 12:00:00'),\n Timestamp('1998-03-10 12:00:00'),\n Timestamp('1998-03-11 12:00:00'),\n Timestamp('1998-03-12 12:00:00'),\n Timestamp('1998-03-13 12:00:00'),\n Timestamp('1998-03-14 12:00:00'),\n Timestamp('1998-03-15 12:00:00'),\n Timestamp('1998-03-16 12:00:00'),\n Timestamp('1998-03-17 12:00:00'),\n Timestamp('1998-03-18 12:00:00'),\n Timestamp('1998-03-19 12:00:00'),\n Timestamp('1998-03-20 12:00:00'),\n Timestamp('1998-03-21 12:00:00'),\n Timestamp('1998-03-22 12:00:00'),\n Timestamp('1998-03-23 12:00:00'),\n Timestamp('1998-03-24 12:00:00'),\n Timestamp('1998-03-25 12:00:00'),\n Timestamp('1998-03-26 12:00:00'),\n Timestamp('1998-03-27 12:00:00'),\n Timestamp('1998-03-28 12:00:00'),\n Timestamp('1998-03-29 12:00:00'),\n Timestamp('1998-03-30 12:00:00'),\n Timestamp('1998-03-31 12:00:00'),\n Timestamp('1998-04-01 12:00:00'),\n Timestamp('1998-04-02 12:00:00'),\n Timestamp('1998-04-03 12:00:00'),\n Timestamp('1998-04-04 12:00:00'),\n Timestamp('1998-04-05 12:00:00'),\n Timestamp('1998-04-06 12:00:00'),\n Timestamp('1998-04-07 12:00:00'),\n Timestamp('1998-04-08 12:00:00'),\n Timestamp('1998-04-09 12:00:00'),\n Timestamp('1998-04-10 12:00:00'),\n Timestamp('1998-04-11 12:00:00'),\n Timestamp('1998-04-12 12:00:00'),\n Timestamp('1998-04-13 12:00:00'),\n Timestamp('1998-04-14 12:00:00'),\n Timestamp('1998-04-15 12:00:00'),\n Timestamp('1998-04-16 12:00:00'),\n Timestamp('1998-04-17 12:00:00'),\n Timestamp('1998-04-18 12:00:00'),\n Timestamp('1998-04-19 12:00:00'),\n Timestamp('1998-04-20 12:00:00'),\n Timestamp('1998-04-21 12:00:00'),\n Timestamp('1998-04-22 12:00:00'),\n Timestamp('1998-04-23 12:00:00'),\n Timestamp('1998-04-24 12:00:00'),\n Timestamp('1998-04-25 12:00:00'),\n Timestamp('1998-04-26 12:00:00'),\n Timestamp('1998-04-27 12:00:00'),\n Timestamp('1998-04-28 12:00:00'),\n Timestamp('1998-04-29 12:00:00'),\n Timestamp('1998-04-30 12:00:00'),\n Timestamp('1998-05-01 12:00:00'),\n Timestamp('1998-05-02 12:00:00'),\n Timestamp('1998-05-03 12:00:00'),\n Timestamp('1998-05-04 12:00:00'),\n Timestamp('1998-05-05 12:00:00'),\n Timestamp('1998-05-06 12:00:00'),\n Timestamp('1998-05-07 12:00:00'),\n Timestamp('1998-05-08 12:00:00'),\n Timestamp('1998-05-09 12:00:00'),\n Timestamp('1998-05-10 12:00:00'),\n Timestamp('1998-05-11 12:00:00'),\n Timestamp('1998-05-12 12:00:00'),\n Timestamp('1998-05-13 12:00:00'),\n Timestamp('1998-05-14 12:00:00'),\n Timestamp('1998-05-15 12:00:00'),\n Timestamp('1998-05-16 12:00:00'),\n Timestamp('1998-05-17 12:00:00'),\n Timestamp('1998-05-18 12:00:00'),\n Timestamp('1998-05-19 12:00:00'),\n Timestamp('1998-05-20 12:00:00'),\n Timestamp('1998-05-21 12:00:00'),\n Timestamp('1998-05-22 12:00:00'),\n Timestamp('1998-05-23 12:00:00'),\n Timestamp('1998-05-24 12:00:00'),\n Timestamp('1998-05-25 12:00:00'),\n Timestamp('1998-05-26 12:00:00'),\n Timestamp('1998-05-27 12:00:00'),\n Timestamp('1998-05-28 12:00:00'),\n Timestamp('1998-05-29 12:00:00'),\n Timestamp('1998-05-30 12:00:00'),\n Timestamp('1998-05-31 12:00:00'),\n Timestamp('1998-06-01 12:00:00'),\n Timestamp('1998-06-02 12:00:00'),\n Timestamp('1998-06-03 12:00:00'),\n Timestamp('1998-06-04 12:00:00'),\n Timestamp('1998-06-05 12:00:00'),\n Timestamp('1998-06-06 12:00:00'),\n Timestamp('1998-06-07 12:00:00'),\n Timestamp('1998-06-08 12:00:00'),\n Timestamp('1998-06-09 12:00:00'),\n Timestamp('1998-06-10 12:00:00'),\n Timestamp('1998-06-11 12:00:00'),\n Timestamp('1998-06-12 12:00:00'),\n Timestamp('1998-06-13 12:00:00'),\n Timestamp('1998-06-14 12:00:00'),\n Timestamp('1998-06-15 12:00:00'),\n Timestamp('1998-06-16 12:00:00'),\n Timestamp('1998-06-17 12:00:00'),\n Timestamp('1998-06-18 12:00:00'),\n Timestamp('1998-06-19 12:00:00'),\n Timestamp('1998-06-20 12:00:00'),\n Timestamp('1998-06-21 12:00:00'),\n Timestamp('1998-06-22 12:00:00'),\n Timestamp('1998-06-23 12:00:00'),\n Timestamp('1998-06-24 12:00:00'),\n Timestamp('1998-06-25 12:00:00'),\n Timestamp('1998-06-26 12:00:00'),\n Timestamp('1998-06-27 12:00:00'),\n Timestamp('1998-06-28 12:00:00'),\n Timestamp('1998-06-29 12:00:00'),\n Timestamp('1998-06-30 12:00:00'),\n Timestamp('1998-07-01 12:00:00'),\n Timestamp('1998-07-02 12:00:00'),\n Timestamp('1998-07-03 12:00:00'),\n Timestamp('1998-07-04 12:00:00'),\n Timestamp('1998-07-05 12:00:00'),\n Timestamp('1998-07-06 12:00:00'),\n Timestamp('1998-07-07 12:00:00'),\n Timestamp('1998-07-08 12:00:00'),\n Timestamp('1998-07-09 12:00:00'),\n Timestamp('1998-07-10 12:00:00'),\n Timestamp('1998-07-11 12:00:00'),\n Timestamp('1998-07-12 12:00:00'),\n Timestamp('1998-07-13 12:00:00'),\n Timestamp('1998-07-14 12:00:00'),\n Timestamp('1998-07-15 12:00:00'),\n Timestamp('1998-07-16 12:00:00'),\n Timestamp('1998-07-17 12:00:00'),\n Timestamp('1998-07-18 12:00:00'),\n Timestamp('1998-07-19 12:00:00'),\n Timestamp('1998-07-20 12:00:00'),\n Timestamp('1998-07-21 12:00:00'),\n Timestamp('1998-07-22 12:00:00'),\n Timestamp('1998-07-23 12:00:00'),\n Timestamp('1998-07-24 12:00:00'),\n Timestamp('1998-07-25 12:00:00'),\n Timestamp('1998-07-26 12:00:00'),\n Timestamp('1998-07-27 12:00:00'),\n Timestamp('1998-07-28 12:00:00'),\n Timestamp('1998-07-29 12:00:00'),\n Timestamp('1998-07-30 12:00:00'),\n Timestamp('1998-07-31 12:00:00'),\n Timestamp('1998-08-01 12:00:00'),\n Timestamp('1998-08-02 12:00:00'),\n Timestamp('1998-08-03 12:00:00'),\n Timestamp('1998-08-04 12:00:00'),\n Timestamp('1998-08-05 12:00:00'),\n Timestamp('1998-08-06 12:00:00'),\n Timestamp('1998-08-07 12:00:00'),\n Timestamp('1998-08-08 12:00:00'),\n Timestamp('1998-08-09 12:00:00'),\n Timestamp('1998-08-10 12:00:00'),\n Timestamp('1998-08-11 12:00:00'),\n Timestamp('1998-08-12 12:00:00'),\n Timestamp('1998-08-13 12:00:00'),\n Timestamp('1998-08-14 12:00:00'),\n Timestamp('1998-08-15 12:00:00'),\n Timestamp('1998-08-16 12:00:00'),\n Timestamp('1998-08-17 12:00:00'),\n Timestamp('1998-08-18 12:00:00'),\n Timestamp('1998-08-19 12:00:00'),\n Timestamp('1998-08-20 12:00:00'),\n Timestamp('1998-08-21 12:00:00'),\n Timestamp('1998-08-22 12:00:00'),\n Timestamp('1998-08-23 12:00:00'),\n Timestamp('1998-08-24 12:00:00'),\n Timestamp('1998-08-25 12:00:00'),\n Timestamp('1998-08-26 12:00:00'),\n Timestamp('1998-08-27 12:00:00'),\n Timestamp('1998-08-28 12:00:00'),\n Timestamp('1998-08-29 12:00:00'),\n Timestamp('1998-08-30 12:00:00'),\n Timestamp('1998-08-31 12:00:00'),\n Timestamp('1998-09-01 12:00:00'),\n Timestamp('1998-09-02 12:00:00'),\n Timestamp('1998-09-03 12:00:00'),\n Timestamp('1998-09-04 12:00:00'),\n Timestamp('1998-09-05 12:00:00'),\n Timestamp('1998-09-06 12:00:00'),\n Timestamp('1998-09-07 12:00:00'),\n Timestamp('1998-09-08 12:00:00'),\n Timestamp('1998-09-09 12:00:00'),\n Timestamp('1998-09-10 12:00:00'),\n Timestamp('1998-09-11 12:00:00'),\n Timestamp('1998-09-12 12:00:00'),\n Timestamp('1998-09-13 12:00:00'),\n Timestamp('1998-09-14 12:00:00'),\n Timestamp('1998-09-15 12:00:00'),\n Timestamp('1998-09-16 12:00:00'),\n Timestamp('1998-09-17 12:00:00'),\n Timestamp('1998-09-18 12:00:00'),\n Timestamp('1998-09-19 12:00:00'),\n Timestamp('1998-09-20 12:00:00'),\n Timestamp('1998-09-21 12:00:00'),\n Timestamp('1998-09-22 12:00:00'),\n Timestamp('1998-09-23 12:00:00'),\n Timestamp('1998-09-24 12:00:00'),\n Timestamp('1998-09-25 12:00:00'),\n Timestamp('1998-09-26 12:00:00'),\n ...]"
     },
     "execution_count": 18,
     "metadata": {},
     "output_type": "execute_result"
    }
   ],
   "source": [
    "from pathlib import Path\n",
    "import pandas as pd\n",
    "path = Path().home() / 'Python/data/tehaleh_wls.xlsx'\n",
    "dfdd = pd.read_excel(path, sheet_name='WellDD').set_index('Date Time').apply(lambda col: pd.to_numeric(col, errors='coerce'))\n",
    "dfdd.index.to_list()"
   ],
   "metadata": {
    "collapsed": false,
    "ExecuteTime": {
     "end_time": "2024-03-27T19:08:19.531589400Z",
     "start_time": "2024-03-27T19:08:17.764210400Z"
    }
   },
   "id": "7870c98c0cc41cf2"
  },
  {
   "cell_type": "code",
   "execution_count": 20,
   "outputs": [
    {
     "name": "stdout",
     "output_type": "stream",
     "text": [
      "WellHD\n",
      "WellHD\n"
     ]
    }
   ],
   "source": [
    "import pandas as pd\n",
    "from pathlib import Path\n",
    "from bokeh.plotting import figure, show\n",
    "from bokeh.models import ColumnDataSource\n",
    "path = Path().home() / 'Python/data/tehaleh_wls.xlsx'\n",
    "df_dd = pd.read_excel(path, sheet_name='WellDD').set_index('Date Time').apply(\n",
    "    lambda column: pd.to_numeric(column, errors='coerce'))\n",
    "df_dd = df_dd.drop(['Month', 'Year', 'Water Year'], axis='columns')\n",
    "df_hd = pd.read_excel(path, sheet_name='WellHD').set_index('Date').apply(\n",
    "    lambda column: pd.to_numeric(column, errors='coerce'))\n"
   ],
   "metadata": {
    "collapsed": false,
    "ExecuteTime": {
     "end_time": "2024-03-28T20:06:09.256289900Z",
     "start_time": "2024-03-28T20:06:07.797069800Z"
    }
   },
   "id": "9a016fc4cec0e27c"
  },
  {
   "cell_type": "code",
   "execution_count": 38,
   "outputs": [
    {
     "data": {
      "text/plain": "442.93999999999994"
     },
     "execution_count": 38,
     "metadata": {},
     "output_type": "execute_result"
    }
   ],
   "source": [
    "tw6 = df_hd['TW-6'].dropna()\n",
    "tw6.loc[:'10/2022'].min()"
   ],
   "metadata": {
    "collapsed": false,
    "ExecuteTime": {
     "end_time": "2024-03-28T20:40:37.543304200Z",
     "start_time": "2024-03-28T20:40:37.524265900Z"
    }
   },
   "id": "9c3aa77351a5d9ec"
  },
  {
   "cell_type": "code",
   "execution_count": 40,
   "outputs": [],
   "source": [
    "from figs._fig import Fig\n",
    "fig = Fig()\n",
    "for col in df_dd.columns:\n",
    "    fig.add_scattergl(x=df_dd.index, y=df_dd[col], name=col)\n",
    "fig.show()"
   ],
   "metadata": {
    "collapsed": false,
    "ExecuteTime": {
     "end_time": "2024-03-28T22:26:51.619386900Z",
     "start_time": "2024-03-28T22:26:43.965896600Z"
    }
   },
   "id": "612ed4980f94323e"
  },
  {
   "cell_type": "code",
   "execution_count": 44,
   "outputs": [],
   "source": [
    "fig = Fig()\n",
    "for col in df_hd.columns:\n",
    "    df = df_hd[col].dropna()\n",
    "    fig.add_scattergl(x=df.index, y=df, name=col)\n",
    "fig.show()"
   ],
   "metadata": {
    "collapsed": false,
    "ExecuteTime": {
     "end_time": "2024-03-28T22:40:15.541076800Z",
     "start_time": "2024-03-28T22:40:15.242675100Z"
    }
   },
   "id": "74dd4db11c1c9d5b"
  },
  {
   "cell_type": "code",
   "execution_count": null,
   "outputs": [],
   "source": [],
   "metadata": {
    "collapsed": false
   },
   "id": "11a92f0511dbe35f"
  }
 ],
 "metadata": {
  "kernelspec": {
   "display_name": "Python 3",
   "language": "python",
   "name": "python3"
  },
  "language_info": {
   "codemirror_mode": {
    "name": "ipython",
    "version": 2
   },
   "file_extension": ".py",
   "mimetype": "text/x-python",
   "name": "python",
   "nbconvert_exporter": "python",
   "pygments_lexer": "ipython2",
   "version": "2.7.6"
  }
 },
 "nbformat": 4,
 "nbformat_minor": 5
}
